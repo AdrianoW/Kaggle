{
 "cells": [
  {
   "cell_type": "code",
   "execution_count": 4,
   "metadata": {
    "collapsed": false
   },
   "outputs": [
    {
     "name": "stdout",
     "output_type": "stream",
     "text": [
      "Populating the interactive namespace from numpy and matplotlib\n"
     ]
    }
   ],
   "source": [
    "%pylab inline\n",
    "import sklearn\n",
    "import pandas as pd\n",
    "import mylib.utils as mu\n",
    "from sklearn.neighbors import KNeighborsClassifier"
   ]
  },
  {
   "cell_type": "code",
   "execution_count": 2,
   "metadata": {
    "collapsed": false
   },
   "outputs": [
    {
     "name": "stdout",
     "output_type": "stream",
     "text": [
      "10:26:06 10/03/15 BRT - Loaded info group location, current shape of data (634, 256)\n",
      "10:26:06 10/03/15 BRT - Loaded info group nu_info, current shape of data (634, 263)\n",
      "10:26:06 10/03/15 BRT - Loaded info group personal, current shape of data (634, 284)\n",
      "10:26:06 10/03/15 BRT - Loaded info group raw_scores, current shape of data (634, 289)\n"
     ]
    }
   ],
   "source": [
    "proc_name = 'knn'\n",
    "data = mu.load_data(['balance', 'location', 'nu_info', 'personal', 'raw_scores'])"
   ]
  },
  {
   "cell_type": "code",
   "execution_count": 3,
   "metadata": {
    "collapsed": false
   },
   "outputs": [],
   "source": [
    "target = mu.load_target_data()"
   ]
  },
  {
   "cell_type": "code",
   "execution_count": 17,
   "metadata": {
    "collapsed": false
   },
   "outputs": [
    {
     "name": "stdout",
     "output_type": "stream",
     "text": [
      "10:35:53 10/03/15 BRT - Spliting into test and validation\n",
      "10:35:53 10/03/15 BRT - Starting to train models\n",
      "10:35:53 10/03/15 BRT - Took 0.0479190349579 seconds\n",
      "------------------------------------------------- \n",
      "0 Model - Score: val - 0.492147 :: train - 0.659142\n",
      "KNeighborsClassifier(algorithm='auto', leaf_size=30, metric='minkowski',\n",
      "           metric_params=None, n_neighbors=11, p=2, weights='uniform')\n",
      "------------------------------------------------- \n",
      "10:35:53 10/03/15 BRT - Spliting into test and validation\n",
      "10:35:53 10/03/15 BRT - Starting to train models\n",
      "10:35:53 10/03/15 BRT - Took 0.0470449924469 seconds\n",
      "------------------------------------------------- \n",
      "0 Model - Score: val - 0.544503 :: train - 1.000000\n",
      "KNeighborsClassifier(algorithm='auto', leaf_size=30, metric='minkowski',\n",
      "           metric_params=None, n_neighbors=11, p=2, weights='distance')\n",
      "------------------------------------------------- \n",
      "10:35:53 10/03/15 BRT - Spliting into test and validation\n",
      "10:35:53 10/03/15 BRT - Starting to train models\n",
      "10:35:53 10/03/15 BRT - Took 0.0496459007263 seconds\n",
      "------------------------------------------------- \n",
      "0 Model - Score: val - 0.492147 :: train - 0.006772\n",
      "KNeighborsClassifier(algorithm='auto', leaf_size=30, metric='minkowski',\n",
      "           metric_params=None, n_neighbors=11, p=2,\n",
      "           weights=<function <lambda> at 0x111421aa0>)\n",
      "------------------------------------------------- \n"
     ]
    }
   ],
   "source": [
    "for w in ['uniform', 'distance', lambda x: np.log(x)]:\n",
    "    models = [KNeighborsClassifier(n_neighbors=11, weights=w)]\n",
    "    results = mu.train_regression(data, ravel(target), seed=333, models=models)\n",
    "    mu.print_best(results)"
   ]
  },
  {
   "cell_type": "code",
   "execution_count": 12,
   "metadata": {
    "collapsed": false
   },
   "outputs": [
    {
     "name": "stdout",
     "output_type": "stream",
     "text": [
      "------------------------------------------------- \n",
      "0 Model - Score: val - 0.507853 :: train - 0.785553\n",
      "KNeighborsClassifier(algorithm='auto', leaf_size=30, metric='minkowski',\n",
      "           metric_params=None, n_neighbors=3, p=2, weights='uniform')\n",
      "------------------------------------------------- \n"
     ]
    }
   ],
   "source": []
  },
  {
   "cell_type": "code",
   "execution_count": 6,
   "metadata": {
    "collapsed": false
   },
   "outputs": [],
   "source": [
    "# save the original y and the predicted\n",
    "mu.save_predictions_from_all(results, run_name=proc_name)"
   ]
  },
  {
   "cell_type": "code",
   "execution_count": 7,
   "metadata": {
    "collapsed": false
   },
   "outputs": [],
   "source": [
    "y_val = pd.DataFrame(dict(pred=results[1][1]['y_val']))\n",
    "y_val.to_csv('./Output/y_val.csv', index=False)"
   ]
  },
  {
   "cell_type": "code",
   "execution_count": 11,
   "metadata": {
    "collapsed": false
   },
   "outputs": [
    {
     "name": "stdout",
     "output_type": "stream",
     "text": [
      "             precision    recall  f1-score   support\n",
      "\n",
      "          0       0.56      0.76      0.64        46\n",
      "          1       0.67      0.44      0.53        50\n",
      "\n",
      "avg / total       0.61      0.59      0.58        96\n",
      "\n",
      "[[35 11]\n",
      " [28 22]]\n"
     ]
    }
   ],
   "source": [
    "from sklearn.metrics import confusion_matrix, classification_report\n",
    "print classification_report(results[1][1]['y_val'], results[0][1]['pred_val'])\n",
    "print confusion_matrix(results[1][1]['y_val'], results[0][1]['pred_val'])"
   ]
  },
  {
   "cell_type": "raw",
   "metadata": {},
   "source": [
    "import seaborn as sns\n",
    "model = results[0][1]['model']\n",
    "# print model info\n",
    "f, ax = plt.subplots(figsize=(15, 15))\n",
    "index_most_important = model.feature_importances_>0.03\n",
    "ax = sns.barplot(x=data.columns[index_most_important], y=model.feature_importances_[index_most_important])"
   ]
  }
 ],
 "metadata": {
  "kernelspec": {
   "display_name": "Python 2",
   "language": "python",
   "name": "python2"
  },
  "language_info": {
   "codemirror_mode": {
    "name": "ipython",
    "version": 2
   },
   "file_extension": ".py",
   "mimetype": "text/x-python",
   "name": "python",
   "nbconvert_exporter": "python",
   "pygments_lexer": "ipython2",
   "version": "2.7.10"
  }
 },
 "nbformat": 4,
 "nbformat_minor": 0
}
