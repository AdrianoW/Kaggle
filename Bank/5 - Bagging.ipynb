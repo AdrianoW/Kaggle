{
 "cells": [
  {
   "cell_type": "markdown",
   "metadata": {},
   "source": [
    "# Bagging the ouputs\n",
    "This script will get all the outputs that were generated from other processes and create a new one. The output for each sample is based on majority voting of the outputs. This is based on the idea of [Kaggle Ensembling Guide](http://mlwave.com/kaggle-ensembling-guide/).\n",
    "\n",
    "For the bagging, a function was created that will read all the files using glob string and create the final preditiction output. There is an option to read only the files that had higher accuracy than a value"
   ]
  },
  {
   "cell_type": "code",
   "execution_count": 1,
   "metadata": {
    "collapsed": false
   },
   "outputs": [
    {
     "name": "stdout",
     "output_type": "stream",
     "text": [
      "Populating the interactive namespace from numpy and matplotlib\n"
     ]
    }
   ],
   "source": [
    "%pylab inline\n",
    "import sklearn\n",
    "import pandas as pd\n",
    "import mylib.utils as mu"
   ]
  },
  {
   "cell_type": "markdown",
   "metadata": {},
   "source": [
    "### Create the output file based on voting"
   ]
  },
  {
   "cell_type": "code",
   "execution_count": 2,
   "metadata": {
    "collapsed": false
   },
   "outputs": [
    {
     "name": "stdout",
     "output_type": "stream",
     "text": [
      "parsing: ./Output/pred_mlsearch_('balance', 'nu_info', 'personal', 'raw_scores', 'scores_class')_629_LogisticRegressionCV.csv\n",
      "parsing: ./Output/pred_mlsearch_('balance', 'nu_info', 'personal', 'scores_class')_633_RidgeClassifierCV.csv\n",
      "parsing: ./Output/pred_mlsearch_('location', 'nu_info', 'personal')_625_SVC.csv\n",
      "parsing: ./Output/pred_mlsearch_('location', 'nu_info', 'personal', 'raw_scores', 'scores_class')_661_LogisticRegressionCV.csv\n",
      "parsing: ./Output/pred_vw_('location', 'scores_class')_733_VowpalWabbit.csv\n",
      "wrote to ./Output/bagged_pred.csv\n",
      "02:54:07 10/08/15 BRT - \n",
      "              precision    recall  f1-score   support\n",
      "\n",
      "          0       0.64      0.90      0.75        31\n",
      "          1       0.85      0.52      0.64        33\n",
      "\n",
      "avg / total       0.75      0.70      0.69        64\n",
      "\n",
      "02:54:07 10/08/15 BRT - \n",
      " [[28  3]\n",
      " [16 17]]\n",
      "02:54:07 10/08/15 BRT - 0.694088050314\n"
     ]
    }
   ],
   "source": [
    "# load any data, just to get \n",
    "data = mu.load_data(['scores_class'], del_key=False)\n",
    "target = mu.load_target_data()\n",
    "X_train, X_val, y_train, y_val = mu.split_data(data, target)\n",
    "mu.bag_results('./Output/pred_*.csv', './Output/bagged_pred.csv', score_filter=None)\n",
    "\n",
    "# read both files and do the calculus\n",
    "pred = pd.read_csv('./Output/bagged_pred.csv')\n",
    "# print the results\n",
    "mu.classification_report_matrix(y_val, pred.preds)\n",
    "mu.print_time(mu.f1_scorer(y_val.target, pred.preds))"
   ]
  },
  {
   "cell_type": "markdown",
   "metadata": {},
   "source": [
    "### No VowpalWabbit"
   ]
  },
  {
   "cell_type": "code",
   "execution_count": 3,
   "metadata": {
    "collapsed": false
   },
   "outputs": [
    {
     "name": "stdout",
     "output_type": "stream",
     "text": [
      "parsing: ./Output/pred_mlsearch_('balance', 'nu_info', 'personal', 'raw_scores', 'scores_class')_629_LogisticRegressionCV.csv\n",
      "parsing: ./Output/pred_mlsearch_('balance', 'nu_info', 'personal', 'scores_class')_633_RidgeClassifierCV.csv\n",
      "parsing: ./Output/pred_mlsearch_('location', 'nu_info', 'personal')_625_SVC.csv\n",
      "parsing: ./Output/pred_mlsearch_('location', 'nu_info', 'personal', 'raw_scores', 'scores_class')_661_LogisticRegressionCV.csv\n",
      "wrote to ./Output/bagged_pred.csv\n",
      "02:54:16 10/08/15 BRT - \n",
      "              precision    recall  f1-score   support\n",
      "\n",
      "          0       0.63      0.87      0.73        31\n",
      "          1       0.81      0.52      0.63        33\n",
      "\n",
      "avg / total       0.72      0.69      0.68        64\n",
      "\n",
      "02:54:16 10/08/15 BRT - \n",
      " [[27  4]\n",
      " [16 17]]\n",
      "02:54:16 10/08/15 BRT - 0.67967967968\n"
     ]
    }
   ],
   "source": [
    "# load any data, just to get \n",
    "data = mu.load_data(['scores_class'], del_key=False)\n",
    "target = mu.load_target_data()\n",
    "X_train, X_val, y_train, y_val = mu.split_data(data, target)\n",
    "mu.bag_results('./Output/pred_mlsearch*.csv', './Output/bagged_pred.csv', score_filter=None)\n",
    "\n",
    "# read both files and do the calculus\n",
    "pred = pd.read_csv('./Output/bagged_pred.csv')\n",
    "# print the results\n",
    "mu.classification_report_matrix(y_val, pred.preds)\n",
    "mu.print_time(mu.f1_scorer(y_val.target, pred.preds))"
   ]
  },
  {
   "cell_type": "code",
   "execution_count": null,
   "metadata": {
    "collapsed": true
   },
   "outputs": [],
   "source": []
  }
 ],
 "metadata": {
  "kernelspec": {
   "display_name": "Python 2",
   "language": "python",
   "name": "python2"
  },
  "language_info": {
   "codemirror_mode": {
    "name": "ipython",
    "version": 2
   },
   "file_extension": ".py",
   "mimetype": "text/x-python",
   "name": "python",
   "nbconvert_exporter": "python",
   "pygments_lexer": "ipython2",
   "version": "2.7.10"
  }
 },
 "nbformat": 4,
 "nbformat_minor": 0
}
