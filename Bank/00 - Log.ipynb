{
 "cells": [
  {
   "cell_type": "markdown",
   "metadata": {},
   "source": [
    "## Data Validation\n",
    "\n",
    "- Size of both datasets\n",
    "    - Application: 647\n",
    "    - Loan: 1285\n",
    "\n",
    "- Empty Fields\n",
    "    - Only the secondary phone type\n",
    "    \n",
    "- Emails\n",
    "    - No email correspond to the users name - inputed to the test - no use\n",
    "\n",
    "- Address\n",
    "    - The CEP, Address and Lat, Long match - tried 5 different address\n",
    "    - used google maps.\n",
    "    \n",
    "## Structure\n",
    "- pre process\n",
    "    - cleans data\n",
    "    - save the data into data group files\n",
    "    - load the data\n",
    "    - run many regression algorithms\n",
    "    \n",
    "## Base Models\n",
    "\n",
    "- metric\n",
    "    - accuracy initially, to check how good it would be to predict correctly\n",
    "\n",
    "- random guess\n",
    "    - expected 0.5 accuracy\n",
    "    \n",
    "- full with best of first run\n",
    "    - "
   ]
  },
  {
   "cell_type": "code",
   "execution_count": null,
   "metadata": {
    "collapsed": true
   },
   "outputs": [],
   "source": []
  }
 ],
 "metadata": {
  "kernelspec": {
   "display_name": "Python 2",
   "language": "python",
   "name": "python2"
  },
  "language_info": {
   "codemirror_mode": {
    "name": "ipython",
    "version": 2
   },
   "file_extension": ".py",
   "mimetype": "text/x-python",
   "name": "python",
   "nbconvert_exporter": "python",
   "pygments_lexer": "ipython2",
   "version": "2.7.10"
  }
 },
 "nbformat": 4,
 "nbformat_minor": 0
}
