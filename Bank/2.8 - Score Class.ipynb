{
 "cells": [
  {
   "cell_type": "code",
   "execution_count": 1,
   "metadata": {
    "collapsed": false
   },
   "outputs": [
    {
     "name": "stdout",
     "output_type": "stream",
     "text": [
      "Populating the interactive namespace from numpy and matplotlib\n"
     ]
    }
   ],
   "source": [
    "%pylab inline\n",
    "import sklearn\n",
    "import pandas as pd\n",
    "import mylib.utils as mu\n",
    "from sklearn.metrics import f1_score"
   ]
  },
  {
   "cell_type": "code",
   "execution_count": 2,
   "metadata": {
    "collapsed": false
   },
   "outputs": [],
   "source": [
    "run = 'score_class'\n",
    "data = mu.load_data(['scores_class'])"
   ]
  },
  {
   "cell_type": "code",
   "execution_count": 3,
   "metadata": {
    "collapsed": false
   },
   "outputs": [],
   "source": [
    "target = mu.load_target_data()"
   ]
  },
  {
   "cell_type": "code",
   "execution_count": 4,
   "metadata": {
    "collapsed": false
   },
   "outputs": [
    {
     "name": "stdout",
     "output_type": "stream",
     "text": [
      "01:07:04 10/04/15 BRT - Spliting into test and validation\n",
      "01:07:04 10/04/15 BRT - Starting to train models\n",
      "01:07:05 10/04/15 BRT - Took 0.23629784584 seconds\n"
     ]
    }
   ],
   "source": [
    "results = mu.train_regression(data, ravel(target), seed=333)"
   ]
  },
  {
   "cell_type": "code",
   "execution_count": 5,
   "metadata": {
    "collapsed": false
   },
   "outputs": [
    {
     "name": "stdout",
     "output_type": "stream",
     "text": [
      "------------------------------------------------- \n",
      "0 Model - Score: val - 0.570681 :: train - 0.647856\n",
      "GradientBoostingClassifier(init=None, learning_rate=0.1, loss='deviance',\n",
      "              max_depth=3, max_features=None, max_leaf_nodes=None,\n",
      "              min_samples_leaf=1, min_samples_split=2,\n",
      "              min_weight_fraction_leaf=0.0, n_estimators=100,\n",
      "              random_state=None, subsample=1.0, verbose=0,\n",
      "              warm_start=False)\n",
      "------------------------------------------------- \n",
      "------------------------------------------------- \n",
      "1 Model - Score: val - 0.570681 :: train - 0.607223\n",
      "LogisticRegressionCV(Cs=10, class_weight=None, cv=None, dual=False,\n",
      "           fit_intercept=True, intercept_scaling=1.0, max_iter=100,\n",
      "           multi_class='ovr', n_jobs=1, penalty='l2', refit=True,\n",
      "           scoring=None, solver='lbfgs', tol=0.0001, verbose=0)\n",
      "------------------------------------------------- \n",
      "------------------------------------------------- \n",
      "2 Model - Score: val - 0.565445 :: train - 0.598194\n",
      "RidgeClassifierCV(alphas=array([  0.1,   1. ,  10. ]), class_weight=None,\n",
      "         cv=None, fit_intercept=True, normalize=False, scoring=None)\n",
      "------------------------------------------------- \n"
     ]
    }
   ],
   "source": [
    "mu.print_best(results)"
   ]
  },
  {
   "cell_type": "code",
   "execution_count": 6,
   "metadata": {
    "collapsed": false
   },
   "outputs": [],
   "source": [
    "pd.DataFrame(dict(preds=results[0][1]['y_val'])).to_csv('./Output/y_val.csv', index=False)"
   ]
  },
  {
   "cell_type": "code",
   "execution_count": 8,
   "metadata": {
    "collapsed": false
   },
   "outputs": [
    {
     "name": "stdout",
     "output_type": "stream",
     "text": [
      "01:07:19 10/04/15 BRT - Saved ./Output/pred_score_class_GradientBoostingClassifier.csv\n",
      "01:07:19 10/04/15 BRT - Saved ./Output/pred_score_class_LogisticRegressionCV.csv\n"
     ]
    }
   ],
   "source": [
    "mu.save_predictions_from_all(results, run_name=run, score_threshold = .57)"
   ]
  },
  {
   "cell_type": "code",
   "execution_count": null,
   "metadata": {
    "collapsed": false
   },
   "outputs": [],
   "source": [
    "import seaborn as sns\n",
    "model = results[0][1]['model']\n",
    "# print model info\n",
    "f, ax = plt.subplots(figsize=(15, 15))\n",
    "index_most_important = model.feature_importances_>0.03\n",
    "ax = sns.barplot(x=data.columns[index_most_important], y=model.feature_importances_[index_most_important])"
   ]
  }
 ],
 "metadata": {
  "kernelspec": {
   "display_name": "Python 2",
   "language": "python",
   "name": "python2"
  },
  "language_info": {
   "codemirror_mode": {
    "name": "ipython",
    "version": 2
   },
   "file_extension": ".py",
   "mimetype": "text/x-python",
   "name": "python",
   "nbconvert_exporter": "python",
   "pygments_lexer": "ipython2",
   "version": "2.7.10"
  }
 },
 "nbformat": 4,
 "nbformat_minor": 0
}
