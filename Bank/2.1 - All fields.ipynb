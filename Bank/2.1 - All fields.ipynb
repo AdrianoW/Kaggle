{
 "cells": [
  {
   "cell_type": "code",
   "execution_count": 1,
   "metadata": {
    "collapsed": false
   },
   "outputs": [
    {
     "name": "stdout",
     "output_type": "stream",
     "text": [
      "Populating the interactive namespace from numpy and matplotlib\n"
     ]
    }
   ],
   "source": [
    "%pylab inline\n",
    "import sklearn\n",
    "import pandas as pd\n",
    "import mylib.utils as mu"
   ]
  },
  {
   "cell_type": "code",
   "execution_count": 3,
   "metadata": {
    "collapsed": false
   },
   "outputs": [
    {
     "name": "stdout",
     "output_type": "stream",
     "text": [
      "00:10:23 10/04/15 BRT - Loaded info group location, current shape of data (634, 256)\n",
      "00:10:23 10/04/15 BRT - Loaded info group nu_info, current shape of data (634, 264)\n",
      "00:10:23 10/04/15 BRT - Loaded info group personal, current shape of data (634, 286)\n",
      "00:10:23 10/04/15 BRT - Loaded info group raw_scores, current shape of data (634, 291)\n",
      "00:10:23 10/04/15 BRT - Loaded info group scores_class, current shape of data (634, 295)\n"
     ]
    }
   ],
   "source": [
    "proc_name = 'all'\n",
    "data = mu.load_data(['balance', 'location', 'nu_info', 'personal', 'raw_scores', 'scores_class'])"
   ]
  },
  {
   "cell_type": "code",
   "execution_count": 4,
   "metadata": {
    "collapsed": false
   },
   "outputs": [],
   "source": [
    "target = mu.load_target_data()"
   ]
  },
  {
   "cell_type": "code",
   "execution_count": 5,
   "metadata": {
    "collapsed": false
   },
   "outputs": [
    {
     "name": "stdout",
     "output_type": "stream",
     "text": [
      "00:10:24 10/04/15 BRT - Spliting into test and validation\n",
      "00:10:24 10/04/15 BRT - Starting to train models\n",
      "00:10:26 10/04/15 BRT - Took 1.4916331768 seconds\n"
     ]
    }
   ],
   "source": [
    "results = mu.train_regression(data, ravel(target), seed=333)"
   ]
  },
  {
   "cell_type": "code",
   "execution_count": 6,
   "metadata": {
    "collapsed": false
   },
   "outputs": [
    {
     "name": "stdout",
     "output_type": "stream",
     "text": [
      "------------------------------------------------- \n",
      "0 Model - Score: val - 0.596859 :: train - 1.000000\n",
      "ExtraTreesClassifier(bootstrap=False, class_weight=None, criterion='gini',\n",
      "           max_depth=None, max_features='auto', max_leaf_nodes=None,\n",
      "           min_samples_leaf=1, min_samples_split=2,\n",
      "           min_weight_fraction_leaf=0.0, n_estimators=10, n_jobs=1,\n",
      "           oob_score=False, random_state=None, verbose=0, warm_start=False)\n",
      "------------------------------------------------- \n",
      "------------------------------------------------- \n",
      "1 Model - Score: val - 0.575916 :: train - 0.925508\n",
      "GradientBoostingClassifier(init=None, learning_rate=0.1, loss='deviance',\n",
      "              max_depth=3, max_features=None, max_leaf_nodes=None,\n",
      "              min_samples_leaf=1, min_samples_split=2,\n",
      "              min_weight_fraction_leaf=0.0, n_estimators=100,\n",
      "              random_state=None, subsample=1.0, verbose=0,\n",
      "              warm_start=False)\n",
      "------------------------------------------------- \n",
      "------------------------------------------------- \n",
      "2 Model - Score: val - 0.570681 :: train - 0.668172\n",
      "LogisticRegressionCV(Cs=10, class_weight=None, cv=None, dual=False,\n",
      "           fit_intercept=True, intercept_scaling=1.0, max_iter=100,\n",
      "           multi_class='ovr', n_jobs=1, penalty='l2', refit=True,\n",
      "           scoring=None, solver='lbfgs', tol=0.0001, verbose=0)\n",
      "------------------------------------------------- \n"
     ]
    }
   ],
   "source": [
    "mu.print_best(results)"
   ]
  },
  {
   "cell_type": "code",
   "execution_count": 7,
   "metadata": {
    "collapsed": false
   },
   "outputs": [],
   "source": [
    "# save the original y and the predicted\n",
    "mu.save_predictions_from_all(results, run_name=proc_name)"
   ]
  },
  {
   "cell_type": "code",
   "execution_count": 8,
   "metadata": {
    "collapsed": false
   },
   "outputs": [],
   "source": [
    "y_val = pd.DataFrame(dict(pred=results[1][1]['y_val']))\n",
    "y_val.to_csv('./Output/y_val.csv', index=False)"
   ]
  },
  {
   "cell_type": "code",
   "execution_count": 9,
   "metadata": {
    "collapsed": false
   },
   "outputs": [
    {
     "name": "stdout",
     "output_type": "stream",
     "text": [
      "             precision    recall  f1-score   support\n",
      "\n",
      "          0       0.58      0.79      0.67        99\n",
      "          1       0.63      0.39      0.48        92\n",
      "\n",
      "avg / total       0.61      0.60      0.58       191\n",
      "\n",
      "[[78 21]\n",
      " [56 36]]\n"
     ]
    }
   ],
   "source": [
    "from sklearn.metrics import confusion_matrix, classification_report\n",
    "print classification_report(results[1][1]['y_val'], results[0][1]['pred_val'])\n",
    "print confusion_matrix(results[1][1]['y_val'], results[0][1]['pred_val'])"
   ]
  },
  {
   "cell_type": "raw",
   "metadata": {},
   "source": [
    "import seaborn as sns\n",
    "model = results[0][1]['model']\n",
    "# print model info\n",
    "f, ax = plt.subplots(figsize=(15, 15))\n",
    "index_most_important = model.feature_importances_>0.03\n",
    "ax = sns.barplot(x=data.columns[index_most_important], y=model.feature_importances_[index_most_important])"
   ]
  }
 ],
 "metadata": {
  "kernelspec": {
   "display_name": "Python 2",
   "language": "python",
   "name": "python2"
  },
  "language_info": {
   "codemirror_mode": {
    "name": "ipython",
    "version": 2
   },
   "file_extension": ".py",
   "mimetype": "text/x-python",
   "name": "python",
   "nbconvert_exporter": "python",
   "pygments_lexer": "ipython2",
   "version": "2.7.10"
  }
 },
 "nbformat": 4,
 "nbformat_minor": 0
}
