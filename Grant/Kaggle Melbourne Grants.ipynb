{
 "metadata": {
  "name": "",
  "signature": "sha256:cadbf695db85a431bd8104dffa1aab3eb5fff1621f12b2c087b639cf0b9e668c"
 },
 "nbformat": 3,
 "nbformat_minor": 0,
 "worksheets": [
  {
   "cells": [
    {
     "cell_type": "code",
     "collapsed": false,
     "input": [
      "%pylab inline\n",
      "import numpy as np\n",
      "import matplotlib.pyplot as plt\n",
      "import pandas as pd\n",
      "import os"
     ],
     "language": "python",
     "metadata": {},
     "outputs": [
      {
       "output_type": "stream",
       "stream": "stdout",
       "text": [
        "Populating the interactive namespace from numpy and matplotlib\n"
       ]
      },
      {
       "output_type": "stream",
       "stream": "stderr",
       "text": [
        "WARNING: pylab import has clobbered these variables: ['clf', 'test']\n",
        "`%matplotlib` prevents importing * from pylab and numpy\n"
       ]
      }
     ],
     "prompt_number": 346
    },
    {
     "cell_type": "code",
     "collapsed": false,
     "input": [
      "train = pd.read_csv('grants_train_2.csv')\n",
      "train.head()"
     ],
     "language": "python",
     "metadata": {},
     "outputs": [
      {
       "html": [
        "<div style=\"max-height:1000px;max-width:1500px;overflow:auto;\">\n",
        "<table border=\"1\" class=\"dataframe\">\n",
        "  <thead>\n",
        "    <tr style=\"text-align: right;\">\n",
        "      <th></th>\n",
        "      <th>Unnamed: 0</th>\n",
        "      <th>Grant.Application.ID</th>\n",
        "      <th>Sponsor100D</th>\n",
        "      <th>Sponsor101A</th>\n",
        "      <th>Sponsor103C</th>\n",
        "      <th>Sponsor105A</th>\n",
        "      <th>Sponsor107C</th>\n",
        "      <th>Sponsor10B</th>\n",
        "      <th>Sponsor111C</th>\n",
        "      <th>Sponsor112D</th>\n",
        "      <th>...</th>\n",
        "      <th>SEO750</th>\n",
        "      <th>SEO751</th>\n",
        "      <th>SEO759</th>\n",
        "      <th>SEO760</th>\n",
        "      <th>SEO769</th>\n",
        "      <th>SEO770</th>\n",
        "      <th>SEO771</th>\n",
        "      <th>SEO779</th>\n",
        "      <th>SEO780</th>\n",
        "      <th>SE_Other</th>\n",
        "    </tr>\n",
        "  </thead>\n",
        "  <tbody>\n",
        "    <tr>\n",
        "      <th>0</th>\n",
        "      <td> 1</td>\n",
        "      <td> 1</td>\n",
        "      <td> 0</td>\n",
        "      <td> 0</td>\n",
        "      <td> 0</td>\n",
        "      <td> 0</td>\n",
        "      <td> 0</td>\n",
        "      <td> 0</td>\n",
        "      <td> 0</td>\n",
        "      <td> 0</td>\n",
        "      <td>...</td>\n",
        "      <td> 0</td>\n",
        "      <td> 0</td>\n",
        "      <td> 0</td>\n",
        "      <td> 0</td>\n",
        "      <td> 0</td>\n",
        "      <td> 0</td>\n",
        "      <td> 0</td>\n",
        "      <td> 0</td>\n",
        "      <td> 0</td>\n",
        "      <td> 0</td>\n",
        "    </tr>\n",
        "    <tr>\n",
        "      <th>1</th>\n",
        "      <td> 2</td>\n",
        "      <td> 2</td>\n",
        "      <td> 0</td>\n",
        "      <td> 0</td>\n",
        "      <td> 0</td>\n",
        "      <td> 0</td>\n",
        "      <td> 0</td>\n",
        "      <td> 0</td>\n",
        "      <td> 0</td>\n",
        "      <td> 0</td>\n",
        "      <td>...</td>\n",
        "      <td> 0</td>\n",
        "      <td> 0</td>\n",
        "      <td> 0</td>\n",
        "      <td> 0</td>\n",
        "      <td> 0</td>\n",
        "      <td> 0</td>\n",
        "      <td> 0</td>\n",
        "      <td> 0</td>\n",
        "      <td> 0</td>\n",
        "      <td> 0</td>\n",
        "    </tr>\n",
        "    <tr>\n",
        "      <th>2</th>\n",
        "      <td> 3</td>\n",
        "      <td> 3</td>\n",
        "      <td> 0</td>\n",
        "      <td> 0</td>\n",
        "      <td> 0</td>\n",
        "      <td> 0</td>\n",
        "      <td> 0</td>\n",
        "      <td> 0</td>\n",
        "      <td> 0</td>\n",
        "      <td> 0</td>\n",
        "      <td>...</td>\n",
        "      <td> 0</td>\n",
        "      <td> 0</td>\n",
        "      <td> 0</td>\n",
        "      <td> 0</td>\n",
        "      <td> 0</td>\n",
        "      <td> 0</td>\n",
        "      <td> 0</td>\n",
        "      <td> 0</td>\n",
        "      <td> 0</td>\n",
        "      <td> 5</td>\n",
        "    </tr>\n",
        "    <tr>\n",
        "      <th>3</th>\n",
        "      <td> 4</td>\n",
        "      <td> 4</td>\n",
        "      <td> 0</td>\n",
        "      <td> 0</td>\n",
        "      <td> 0</td>\n",
        "      <td> 0</td>\n",
        "      <td> 0</td>\n",
        "      <td> 0</td>\n",
        "      <td> 0</td>\n",
        "      <td> 0</td>\n",
        "      <td>...</td>\n",
        "      <td> 0</td>\n",
        "      <td> 0</td>\n",
        "      <td> 0</td>\n",
        "      <td> 0</td>\n",
        "      <td> 0</td>\n",
        "      <td> 0</td>\n",
        "      <td> 0</td>\n",
        "      <td> 0</td>\n",
        "      <td> 0</td>\n",
        "      <td> 4</td>\n",
        "    </tr>\n",
        "    <tr>\n",
        "      <th>4</th>\n",
        "      <td> 5</td>\n",
        "      <td> 5</td>\n",
        "      <td> 0</td>\n",
        "      <td> 0</td>\n",
        "      <td> 0</td>\n",
        "      <td> 0</td>\n",
        "      <td> 0</td>\n",
        "      <td> 0</td>\n",
        "      <td> 0</td>\n",
        "      <td> 0</td>\n",
        "      <td>...</td>\n",
        "      <td> 0</td>\n",
        "      <td> 0</td>\n",
        "      <td> 0</td>\n",
        "      <td> 0</td>\n",
        "      <td> 0</td>\n",
        "      <td> 1</td>\n",
        "      <td> 0</td>\n",
        "      <td> 0</td>\n",
        "      <td> 0</td>\n",
        "      <td> 0</td>\n",
        "    </tr>\n",
        "  </tbody>\n",
        "</table>\n",
        "<p>5 rows \u00d7 679 columns</p>\n",
        "</div>"
       ],
       "metadata": {},
       "output_type": "pyout",
       "prompt_number": 347,
       "text": [
        "   Unnamed: 0  Grant.Application.ID  Sponsor100D  Sponsor101A  Sponsor103C  \\\n",
        "0           1                     1            0            0            0   \n",
        "1           2                     2            0            0            0   \n",
        "2           3                     3            0            0            0   \n",
        "3           4                     4            0            0            0   \n",
        "4           5                     5            0            0            0   \n",
        "\n",
        "   Sponsor105A  Sponsor107C  Sponsor10B  Sponsor111C  Sponsor112D  \\\n",
        "0            0            0           0            0            0   \n",
        "1            0            0           0            0            0   \n",
        "2            0            0           0            0            0   \n",
        "3            0            0           0            0            0   \n",
        "4            0            0           0            0            0   \n",
        "\n",
        "      ...       SEO750  SEO751  SEO759  SEO760  SEO769  SEO770  SEO771  \\\n",
        "0     ...            0       0       0       0       0       0       0   \n",
        "1     ...            0       0       0       0       0       0       0   \n",
        "2     ...            0       0       0       0       0       0       0   \n",
        "3     ...            0       0       0       0       0       0       0   \n",
        "4     ...            0       0       0       0       0       1       0   \n",
        "\n",
        "   SEO779  SEO780  SE_Other  \n",
        "0       0       0         0  \n",
        "1       0       0         0  \n",
        "2       0       0         5  \n",
        "3       0       0         4  \n",
        "4       0       0         0  \n",
        "\n",
        "[5 rows x 679 columns]"
       ]
      }
     ],
     "prompt_number": 347
    },
    {
     "cell_type": "code",
     "collapsed": false,
     "input": [
      "test =  pd.read_csv('grants_test_2.csv')"
     ],
     "language": "python",
     "metadata": {},
     "outputs": [],
     "prompt_number": 348
    },
    {
     "cell_type": "markdown",
     "metadata": {},
     "source": [
      "Remove unneccesary columns like the first, is 2008 and ..."
     ]
    },
    {
     "cell_type": "code",
     "collapsed": false,
     "input": [
      "train.columns.values.tolist()# = data.frame(train[[,1:]])\n",
      "\n",
      "train = train.drop('is2008', 1).drop('Grant.Application.ID',1).drop('Unnamed: 0',1)\n",
      "test = test.drop('is2008', 1).drop('Grant.Application.ID',1).drop('Unnamed: 0',1)\n",
      "#train = train.drop(['Fri', 'Mon', 'Sat', 'Sun', 'Thurs', 'Tues', 'Wed'], 1)\n",
      "#test = test.drop(['Fri', 'Mon', 'Sat', 'Sun', 'Thurs', 'Tues', 'Wed'], 1)"
     ],
     "language": "python",
     "metadata": {},
     "outputs": [],
     "prompt_number": 349
    },
    {
     "cell_type": "code",
     "collapsed": false,
     "input": [
      "print train.shape\n",
      "test.shape"
     ],
     "language": "python",
     "metadata": {},
     "outputs": [
      {
       "output_type": "stream",
       "stream": "stdout",
       "text": [
        "(6633, 676)\n"
       ]
      },
      {
       "metadata": {},
       "output_type": "pyout",
       "prompt_number": 350,
       "text": [
        "(2075, 676)"
       ]
      }
     ],
     "prompt_number": 350
    },
    {
     "cell_type": "markdown",
     "metadata": {},
     "source": [
      "# this is big\n",
      "## smaller\n",
      "### even smaller\n",
      "\n",
      "list:\n",
      "+item1\n",
      "+item2\n",
      "\n",
      "_italic_\n"
     ]
    },
    {
     "cell_type": "code",
     "collapsed": false,
     "input": [
      "from sklearn.naive_bayes import GaussianNB\n",
      "from sklearn.cross_validation import train_test_split"
     ],
     "language": "python",
     "metadata": {},
     "outputs": [],
     "prompt_number": 351
    },
    {
     "cell_type": "markdown",
     "metadata": {},
     "source": [
      "create the target values"
     ]
    },
    {
     "cell_type": "code",
     "collapsed": false,
     "input": [
      "y_train = train['Class']\n",
      "y_test = test['Class']\n",
      "\n",
      "print y_train.shape\n",
      "print y_test.shape\n",
      "y_test.head()"
     ],
     "language": "python",
     "metadata": {},
     "outputs": [
      {
       "output_type": "stream",
       "stream": "stdout",
       "text": [
        "(6633,)\n",
        "(2075,)\n"
       ]
      },
      {
       "metadata": {},
       "output_type": "pyout",
       "prompt_number": 352,
       "text": [
        "0      successful\n",
        "1      successful\n",
        "2      successful\n",
        "3      successful\n",
        "4    unsuccessful\n",
        "Name: Class, dtype: object"
       ]
      }
     ],
     "prompt_number": 352
    },
    {
     "cell_type": "markdown",
     "metadata": {},
     "source": [
      "create the predictors"
     ]
    },
    {
     "cell_type": "code",
     "collapsed": false,
     "input": [
      "X_train = train.drop('Class', 1)\n",
      "X_test = test.drop('Class', 1)\n",
      "\n",
      "print X_train.shape\n",
      "print X_test.shape"
     ],
     "language": "python",
     "metadata": {},
     "outputs": [
      {
       "output_type": "stream",
       "stream": "stdout",
       "text": [
        "(6633, 675)\n",
        "(2075, 675)\n"
       ]
      }
     ],
     "prompt_number": 353
    },
    {
     "cell_type": "markdown",
     "metadata": {},
     "source": [
      "##Gaussian Naive Bayes"
     ]
    },
    {
     "cell_type": "code",
     "collapsed": false,
     "input": [
      "# train the model\n",
      "clf = GaussianNB()\n",
      "clf.fit(X_train, y_train)\n",
      "\n",
      "# use the model to predict the labels of the test data\n",
      "predicted = clf.predict(X_test)\n",
      "expected = y_test"
     ],
     "language": "python",
     "metadata": {},
     "outputs": [],
     "prompt_number": 354
    },
    {
     "cell_type": "code",
     "collapsed": false,
     "input": [
      "matches = (predicted == expected)"
     ],
     "language": "python",
     "metadata": {},
     "outputs": [],
     "prompt_number": 355
    },
    {
     "cell_type": "code",
     "collapsed": false,
     "input": [
      "matches.sum() / float(len(matches))"
     ],
     "language": "python",
     "metadata": {},
     "outputs": [
      {
       "metadata": {},
       "output_type": "pyout",
       "prompt_number": 356,
       "text": [
        "0.50554216867469881"
       ]
      }
     ],
     "prompt_number": 356
    },
    {
     "cell_type": "code",
     "collapsed": false,
     "input": [
      "pred_num = ((predicted == 'successful')*1)\n",
      "exp_num = np.array((expected == 'successful')*1).T\n",
      "y_train_num = np.array((y_train == 'successful')*1).T"
     ],
     "language": "python",
     "metadata": {},
     "outputs": [],
     "prompt_number": 357
    },
    {
     "cell_type": "code",
     "collapsed": false,
     "input": [
      "from sklearn import metrics\n",
      "#print(metrics.classification_report(exp_num, pred_num))"
     ],
     "language": "python",
     "metadata": {},
     "outputs": [],
     "prompt_number": 358
    },
    {
     "cell_type": "code",
     "collapsed": false,
     "input": [
      "print metrics.roc_auc_score(exp_num, pred_num)"
     ],
     "language": "python",
     "metadata": {},
     "outputs": [
      {
       "output_type": "stream",
       "stream": "stdout",
       "text": [
        "0.580627205049\n"
       ]
      }
     ],
     "prompt_number": 359
    },
    {
     "cell_type": "markdown",
     "metadata": {},
     "source": [
      "##KNN"
     ]
    },
    {
     "cell_type": "code",
     "collapsed": false,
     "input": [
      "from sklearn import neighbors"
     ],
     "language": "python",
     "metadata": {},
     "outputs": [],
     "prompt_number": 360
    },
    {
     "cell_type": "code",
     "collapsed": false,
     "input": [
      "# create the model\n",
      "knn = neighbors.KNeighborsClassifier(n_neighbors=50)\n",
      "\n",
      "# fit the model\n",
      "knn.fit(X_train, y_train)"
     ],
     "language": "python",
     "metadata": {},
     "outputs": [
      {
       "metadata": {},
       "output_type": "pyout",
       "prompt_number": 361,
       "text": [
        "KNeighborsClassifier(algorithm='auto', leaf_size=30, metric='minkowski',\n",
        "           n_neighbors=50, p=2, weights='uniform')"
       ]
      }
     ],
     "prompt_number": 361
    },
    {
     "cell_type": "code",
     "collapsed": false,
     "input": [
      "predicted = knn.predict(X_test)\n",
      "pred_num = ((predicted == 'successful')*1)"
     ],
     "language": "python",
     "metadata": {},
     "outputs": [],
     "prompt_number": 362
    },
    {
     "cell_type": "code",
     "collapsed": false,
     "input": [
      "#print(metrics.classification_report(exp_num, pred_num))\n",
      "#print(metrics.confusion_matrix(exp_num, pred_num))\n",
      "print metrics.roc_auc_score(exp_num, pred_num)"
     ],
     "language": "python",
     "metadata": {},
     "outputs": [
      {
       "output_type": "stream",
       "stream": "stdout",
       "text": [
        "0.620711542543\n"
       ]
      }
     ],
     "prompt_number": 363
    },
    {
     "cell_type": "markdown",
     "metadata": {},
     "source": [
      "##Random Forest"
     ]
    },
    {
     "cell_type": "code",
     "collapsed": false,
     "input": [
      "%%time\n",
      "from sklearn import ensemble\n",
      "rf = ensemble.RandomForestClassifier(n_estimators=100)\n",
      "rf.fit(X_train, y_train)\n",
      "pred = rf.predict(X_test)\n",
      "pred_num = ((pred == 'successful')*1)"
     ],
     "language": "python",
     "metadata": {},
     "outputs": [
      {
       "output_type": "stream",
       "stream": "stdout",
       "text": [
        "CPU times: user 8.61 s, sys: 14.7 ms, total: 8.62 s\n",
        "Wall time: 8.62 s\n"
       ]
      }
     ],
     "prompt_number": 364
    },
    {
     "cell_type": "code",
     "collapsed": false,
     "input": [
      "metrics.roc_auc_score(exp_num, pred_num)"
     ],
     "language": "python",
     "metadata": {},
     "outputs": [
      {
       "metadata": {},
       "output_type": "pyout",
       "prompt_number": 365,
       "text": [
        "0.85164950682989526"
       ]
      }
     ],
     "prompt_number": 365
    },
    {
     "cell_type": "code",
     "collapsed": false,
     "input": [
      "# get the most important features\n",
      "#imp = rf.feature_importances_\n",
      "#top = (-imp).argsort()\n",
      "#X_train.loc[:,imp.argsort()[:200]] \n",
      "#tmp = X_train.iloc[:,top].columns\n"
     ],
     "language": "python",
     "metadata": {},
     "outputs": [],
     "prompt_number": 366
    },
    {
     "cell_type": "code",
     "collapsed": false,
     "input": [
      "#d = {'colnames':X_train.iloc[:,top].columns, 'values':imp[top]}\n",
      "#print pd.DataFrame(d)"
     ],
     "language": "python",
     "metadata": {},
     "outputs": [],
     "prompt_number": 367
    },
    {
     "cell_type": "code",
     "collapsed": false,
     "input": [
      "#imp[imp.argsort()[:-200]]"
     ],
     "language": "python",
     "metadata": {},
     "outputs": [],
     "prompt_number": 368
    },
    {
     "cell_type": "code",
     "collapsed": false,
     "input": [
      "from sklearn.grid_search import GridSearchCV"
     ],
     "language": "python",
     "metadata": {},
     "outputs": [],
     "prompt_number": 369
    },
    {
     "cell_type": "code",
     "collapsed": false,
     "input": [
      "%%time\n",
      "params = {\n",
      "    'n_estimators': [500],\n",
      "    #'max_features': ['auto', 5, 3],\n",
      "    'max_depth': [None],\n",
      "}\n",
      "gs = GridSearchCV(rf, params, cv=3, n_jobs=1)\n",
      "gs.fit(X_train, y_train_num)\n",
      "# predict the test set\n",
      "pred = gs.predict(X_test)\n",
      "#pred_num = ((pred == 'successful')*1)\n",
      "print metrics.roc_auc_score(exp_num,pred)\n",
      "print gs.best_params_"
     ],
     "language": "python",
     "metadata": {},
     "outputs": [
      {
       "output_type": "stream",
       "stream": "stdout",
       "text": [
        "0.86046469719\n",
        "{'n_estimators': 500, 'max_depth': None}\n",
        "CPU times: user 1min 57s, sys: 340 ms, total: 1min 57s\n",
        "Wall time: 1min 57s\n"
       ]
      }
     ],
     "prompt_number": 370
    },
    {
     "cell_type": "markdown",
     "metadata": {},
     "source": [
      "##SVM:"
     ]
    },
    {
     "cell_type": "code",
     "collapsed": false,
     "input": [
      "# create a model, simple to start\n",
      "from sklearn import svm\n",
      "clf = svm.SVC(C=3)\n",
      "clf.fit(X_train, y_train_num)\n",
      "pred = clf.predict(X_test)\n",
      "print metrics.roc_auc_score(exp_num,pred)"
     ],
     "language": "python",
     "metadata": {},
     "outputs": [
      {
       "output_type": "stream",
       "stream": "stdout",
       "text": [
        "0.758218500587\n"
       ]
      }
     ],
     "prompt_number": 371
    },
    {
     "cell_type": "markdown",
     "metadata": {},
     "source": [
      "##AdaBoost"
     ]
    },
    {
     "cell_type": "code",
     "collapsed": false,
     "input": [
      "#from sklearn.cross_validation import cross_val_score\n",
      "from sklearn.ensemble import AdaBoostClassifier\n",
      "\n",
      "#clf = AdaBoostClassifier(n_estimators=500)\n",
      "#clf.fit(X_train, y_train_num)\n",
      "#pred = clf.predict(X_test)\n",
      "#print metrics.roc_auc_score(exp_num,pred)"
     ],
     "language": "python",
     "metadata": {},
     "outputs": [],
     "prompt_number": 372
    },
    {
     "cell_type": "markdown",
     "metadata": {},
     "source": [
      "##ExtraTreeClassifier"
     ]
    },
    {
     "cell_type": "code",
     "collapsed": false,
     "input": [
      "from sklearn.ensemble import ExtraTreesClassifier\n",
      "clf = ExtraTreesClassifier(n_estimators=100, max_depth=None, min_samples_split=1, random_state=0)\n",
      "#>>> scores = cross_val_score(clf, X, y)\n",
      "clf.fit(X_train, y_train_num)\n",
      "\n",
      "pred_train = clf.predict(X_train)\n",
      "pred = clf.predict(X_test)\n",
      "print metrics.roc_auc_score(y_train_num,pred_train)\n",
      "print metrics.roc_auc_score(exp_num,pred)"
     ],
     "language": "python",
     "metadata": {},
     "outputs": [
      {
       "output_type": "stream",
       "stream": "stdout",
       "text": [
        "0.996148814614\n",
        "0.858540472787\n"
       ]
      }
     ],
     "prompt_number": 378
    },
    {
     "cell_type": "code",
     "collapsed": false,
     "input": [
      "%%time\n",
      "params = {\n",
      "    'n_estimators': [10,50,100,500],\n",
      "    'max_features': ['auto',26,13],\n",
      "    'max_depth': [None,10,50,100],\n",
      "}\n",
      "gs = GridSearchCV(clf, params, cv=3, n_jobs=-1)\n",
      "gs.fit(X_train, y_train_num)\n",
      "# predict the test set\n",
      "pred = gs.predict(X_test)\n",
      "#pred_num = ((pred == 'successful')*1)\n",
      "print metrics.roc_auc_score(exp_num,pred)\n",
      "print gs.best_params_"
     ],
     "language": "python",
     "metadata": {},
     "outputs": [
      {
       "output_type": "stream",
       "stream": "stdout",
       "text": [
        "0.86436820965\n",
        "{'max_features': 26, 'n_estimators': 500, 'max_depth': 50}\n",
        "CPU times: user 50 s, sys: 8.93 s, total: 58.9 s\n",
        "Wall time: 10min 5s\n"
       ]
      }
     ],
     "prompt_number": 383
    },
    {
     "cell_type": "code",
     "collapsed": false,
     "input": [
      "gs.grid_scores_\n"
     ],
     "language": "python",
     "metadata": {},
     "outputs": [
      {
       "metadata": {},
       "output_type": "pyout",
       "prompt_number": 385,
       "text": [
        "[mean: 0.86627, std: 0.00407, params: {'max_features': 'auto', 'n_estimators': 10, 'max_depth': None},\n",
        " mean: 0.88014, std: 0.00517, params: {'max_features': 'auto', 'n_estimators': 50, 'max_depth': None},\n",
        " mean: 0.88542, std: 0.00636, params: {'max_features': 'auto', 'n_estimators': 100, 'max_depth': None},\n",
        " mean: 0.88693, std: 0.00569, params: {'max_features': 'auto', 'n_estimators': 500, 'max_depth': None},\n",
        " mean: 0.87170, std: 0.00496, params: {'max_features': 26, 'n_estimators': 10, 'max_depth': None},\n",
        " mean: 0.88331, std: 0.00610, params: {'max_features': 26, 'n_estimators': 50, 'max_depth': None},\n",
        " mean: 0.88452, std: 0.00661, params: {'max_features': 26, 'n_estimators': 100, 'max_depth': None},\n",
        " mean: 0.88738, std: 0.00480, params: {'max_features': 26, 'n_estimators': 500, 'max_depth': None},\n",
        " mean: 0.85286, std: 0.00246, params: {'max_features': 13, 'n_estimators': 10, 'max_depth': None},\n",
        " mean: 0.87261, std: 0.00203, params: {'max_features': 13, 'n_estimators': 50, 'max_depth': None},\n",
        " mean: 0.87562, std: 0.00591, params: {'max_features': 13, 'n_estimators': 100, 'max_depth': None},\n",
        " mean: 0.87849, std: 0.00471, params: {'max_features': 13, 'n_estimators': 500, 'max_depth': None},\n",
        " mean: 0.81306, std: 0.00794, params: {'max_features': 'auto', 'n_estimators': 10, 'max_depth': 10},\n",
        " mean: 0.83281, std: 0.00663, params: {'max_features': 'auto', 'n_estimators': 50, 'max_depth': 10},\n",
        " mean: 0.82843, std: 0.00149, params: {'max_features': 'auto', 'n_estimators': 100, 'max_depth': 10},\n",
        " mean: 0.83250, std: 0.00154, params: {'max_features': 'auto', 'n_estimators': 500, 'max_depth': 10},\n",
        " mean: 0.81487, std: 0.00216, params: {'max_features': 26, 'n_estimators': 10, 'max_depth': 10},\n",
        " mean: 0.82843, std: 0.00355, params: {'max_features': 26, 'n_estimators': 50, 'max_depth': 10},\n",
        " mean: 0.83507, std: 0.00282, params: {'max_features': 26, 'n_estimators': 100, 'max_depth': 10},\n",
        " mean: 0.83688, std: 0.00149, params: {'max_features': 26, 'n_estimators': 500, 'max_depth': 10},\n",
        " mean: 0.77823, std: 0.00420, params: {'max_features': 13, 'n_estimators': 10, 'max_depth': 10},\n",
        " mean: 0.81577, std: 0.00314, params: {'max_features': 13, 'n_estimators': 50, 'max_depth': 10},\n",
        " mean: 0.81456, std: 0.00979, params: {'max_features': 13, 'n_estimators': 100, 'max_depth': 10},\n",
        " mean: 0.82135, std: 0.00621, params: {'max_features': 13, 'n_estimators': 500, 'max_depth': 10},\n",
        " mean: 0.86627, std: 0.00341, params: {'max_features': 'auto', 'n_estimators': 10, 'max_depth': 50},\n",
        " mean: 0.87909, std: 0.00496, params: {'max_features': 'auto', 'n_estimators': 50, 'max_depth': 50},\n",
        " mean: 0.88587, std: 0.00636, params: {'max_features': 'auto', 'n_estimators': 100, 'max_depth': 50},\n",
        " mean: 0.88753, std: 0.00530, params: {'max_features': 'auto', 'n_estimators': 500, 'max_depth': 50},\n",
        " mean: 0.87200, std: 0.00454, params: {'max_features': 26, 'n_estimators': 10, 'max_depth': 50},\n",
        " mean: 0.88361, std: 0.00575, params: {'max_features': 26, 'n_estimators': 50, 'max_depth': 50},\n",
        " mean: 0.88391, std: 0.00609, params: {'max_features': 26, 'n_estimators': 100, 'max_depth': 50},\n",
        " mean: 0.88783, std: 0.00389, params: {'max_features': 26, 'n_estimators': 500, 'max_depth': 50},\n",
        " mean: 0.85572, std: 0.00222, params: {'max_features': 13, 'n_estimators': 10, 'max_depth': 50},\n",
        " mean: 0.87502, std: 0.00476, params: {'max_features': 13, 'n_estimators': 50, 'max_depth': 50},\n",
        " mean: 0.87607, std: 0.00647, params: {'max_features': 13, 'n_estimators': 100, 'max_depth': 50},\n",
        " mean: 0.88060, std: 0.00674, params: {'max_features': 13, 'n_estimators': 500, 'max_depth': 50},\n",
        " mean: 0.86627, std: 0.00407, params: {'max_features': 'auto', 'n_estimators': 10, 'max_depth': 100},\n",
        " mean: 0.88014, std: 0.00517, params: {'max_features': 'auto', 'n_estimators': 50, 'max_depth': 100},\n",
        " mean: 0.88542, std: 0.00636, params: {'max_features': 'auto', 'n_estimators': 100, 'max_depth': 100},\n",
        " mean: 0.88693, std: 0.00569, params: {'max_features': 'auto', 'n_estimators': 500, 'max_depth': 100},\n",
        " mean: 0.87170, std: 0.00496, params: {'max_features': 26, 'n_estimators': 10, 'max_depth': 100},\n",
        " mean: 0.88331, std: 0.00610, params: {'max_features': 26, 'n_estimators': 50, 'max_depth': 100},\n",
        " mean: 0.88452, std: 0.00661, params: {'max_features': 26, 'n_estimators': 100, 'max_depth': 100},\n",
        " mean: 0.88738, std: 0.00480, params: {'max_features': 26, 'n_estimators': 500, 'max_depth': 100},\n",
        " mean: 0.85286, std: 0.00246, params: {'max_features': 13, 'n_estimators': 10, 'max_depth': 100},\n",
        " mean: 0.87261, std: 0.00203, params: {'max_features': 13, 'n_estimators': 50, 'max_depth': 100},\n",
        " mean: 0.87562, std: 0.00591, params: {'max_features': 13, 'n_estimators': 100, 'max_depth': 100},\n",
        " mean: 0.87849, std: 0.00471, params: {'max_features': 13, 'n_estimators': 500, 'max_depth': 100}]"
       ]
      }
     ],
     "prompt_number": 385
    },
    {
     "cell_type": "markdown",
     "metadata": {},
     "source": [
      "> 0.86436820965\n",
      "\n",
      "> {'max_features': 26, 'n_estimators': 500, 'max_depth': 50}\n",
      "\n",
      "> CPU times: user 50 s, sys: 8.93 s, total: 58.9 s\n",
      "\n",
      "> Wall time: 10min 5s"
     ]
    },
    {
     "cell_type": "code",
     "collapsed": false,
     "input": [
      "sqrt(676)"
     ],
     "language": "python",
     "metadata": {},
     "outputs": [
      {
       "metadata": {},
       "output_type": "pyout",
       "prompt_number": 380,
       "text": [
        "26.0"
       ]
      }
     ],
     "prompt_number": 380
    },
    {
     "cell_type": "code",
     "collapsed": false,
     "input": [],
     "language": "python",
     "metadata": {},
     "outputs": [
      {
       "metadata": {},
       "output_type": "pyout",
       "prompt_number": 382,
       "text": [
        "676"
       ]
      }
     ],
     "prompt_number": 382
    },
    {
     "cell_type": "code",
     "collapsed": false,
     "input": [],
     "language": "python",
     "metadata": {},
     "outputs": []
    }
   ],
   "metadata": {}
  }
 ]
}