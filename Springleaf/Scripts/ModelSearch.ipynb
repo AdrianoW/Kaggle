{
 "cells": [
  {
   "cell_type": "code",
   "execution_count": 91,
   "metadata": {
    "collapsed": false
   },
   "outputs": [],
   "source": [
    "import sklearn.cross_validation as cv\n",
    "import pandas as pd\n",
    "import numpy as np\n",
    "import sys"
   ]
  },
  {
   "cell_type": "code",
   "execution_count": 43,
   "metadata": {
    "collapsed": false
   },
   "outputs": [],
   "source": [
    "from sklearn.ensemble import ExtraTreesClassifier, GradientBoostingClassifier, RandomForestClassifier\n",
    "from sklearn.linear_model import LogisticRegressionCV, RidgeClassifierCV\n",
    "from sklearn.metrics import auc, roc_curve"
   ]
  },
  {
   "cell_type": "code",
   "execution_count": 2,
   "metadata": {
    "collapsed": false
   },
   "outputs": [
    {
     "ename": "NameError",
     "evalue": "name 'pd' is not defined",
     "output_type": "error",
     "traceback": [
      "\u001b[0;31m---------------------------------------------------------------------------\u001b[0m",
      "\u001b[0;31mNameError\u001b[0m                                 Traceback (most recent call last)",
      "\u001b[0;32m<ipython-input-2-e6ebcaedb334>\u001b[0m in \u001b[0;36m<module>\u001b[0;34m()\u001b[0m\n\u001b[0;32m----> 1\u001b[0;31m \u001b[0mtrain\u001b[0m \u001b[0;34m=\u001b[0m \u001b[0mpd\u001b[0m\u001b[0;34m.\u001b[0m\u001b[0mread_csv\u001b[0m\u001b[0;34m(\u001b[0m\u001b[0;34m'../Input/train_processed.csv'\u001b[0m\u001b[0;34m)\u001b[0m\u001b[0;34m\u001b[0m\u001b[0m\n\u001b[0m\u001b[1;32m      2\u001b[0m \u001b[0mtest_raw\u001b[0m \u001b[0;34m=\u001b[0m \u001b[0mpd\u001b[0m\u001b[0;34m.\u001b[0m\u001b[0mread_csv\u001b[0m\u001b[0;34m(\u001b[0m\u001b[0;34m'../Input/test_processed.csv'\u001b[0m\u001b[0;34m)\u001b[0m\u001b[0;34m\u001b[0m\u001b[0m\n",
      "\u001b[0;31mNameError\u001b[0m: name 'pd' is not defined"
     ]
    }
   ],
   "source": [
    "train = pd.read_csv('../Input/train_processed.csv') \n",
    "test_raw = pd.read_csv('../Input/test_processed.csv')"
   ]
  },
  {
   "cell_type": "code",
   "execution_count": 1,
   "metadata": {
    "collapsed": false
   },
   "outputs": [
    {
     "ename": "NameError",
     "evalue": "name 'train' is not defined",
     "output_type": "error",
     "traceback": [
      "\u001b[0;31m---------------------------------------------------------------------------\u001b[0m",
      "\u001b[0;31mNameError\u001b[0m                                 Traceback (most recent call last)",
      "\u001b[0;32m<ipython-input-1-269eb77b41b7>\u001b[0m in \u001b[0;36m<module>\u001b[0;34m()\u001b[0m\n\u001b[0;32m----> 1\u001b[0;31m \u001b[0mtrain\u001b[0m\u001b[0;34m\u001b[0m\u001b[0m\n\u001b[0m",
      "\u001b[0;31mNameError\u001b[0m: name 'train' is not defined"
     ]
    }
   ],
   "source": [
    "train"
   ]
  },
  {
   "cell_type": "code",
   "execution_count": 46,
   "metadata": {
    "collapsed": false
   },
   "outputs": [],
   "source": [
    "cv.StratifiedKFold\n",
    "seed = 234523\n",
    "np.random.seed(seed)\n",
    "train_idx = np.random.choice(train.index.values, 30000)\n",
    "val_idx = np.random.choice(np.delete(train.index.values,train_idx), 15000)\n",
    "train_s = train.ix[train_idx] \n",
    "validation_s = train.ix[val_idx] "
   ]
  },
  {
   "cell_type": "code",
   "execution_count": 47,
   "metadata": {
    "collapsed": true
   },
   "outputs": [],
   "source": [
    "cols_features = list(set(train.columns.tolist()) - set(['ID', 'target']))\n",
    "cols_target = ['target']"
   ]
  },
  {
   "cell_type": "code",
   "execution_count": 99,
   "metadata": {
    "collapsed": false
   },
   "outputs": [],
   "source": [
    "models = [#ExtraTreesClassifier(random_state=seed),\n",
    "          #RandomForestClassifier(random_state=seed),\n",
    "          #LogisticRegressionCV(),\n",
    "          #RidgeClassifierCV(),\n",
    "          GradientBoostingClassifier(random_state=seed, verbose=1)]"
   ]
  },
  {
   "cell_type": "code",
   "execution_count": 80,
   "metadata": {
    "collapsed": false
   },
   "outputs": [],
   "source": [
    "X_train = train_s[cols_features]\n",
    "y_train = np.ravel(train_s[cols_target])\n",
    "X_val = validation_s[cols_features]\n",
    "y_val = np.ravel(validation_s[cols_target])"
   ]
  },
  {
   "cell_type": "code",
   "execution_count": null,
   "metadata": {
    "collapsed": false
   },
   "outputs": [
    {
     "name": "stdout",
     "output_type": "stream",
     "text": [
      "15:02:27 10/13/15 BRT - ExtraTreesClassifier(bootstrap=False, class_weight=None, criterion='gini',\n",
      "           max_depth=None, max_features='auto', max_leaf_nodes=None,\n",
      "           min_samples_leaf=1, min_samples_split=2,\n",
      "           min_weight_fraction_leaf=0.0, n_estimators=10, n_jobs=1,\n",
      "           oob_score=False, random_state=234523, verbose=0,\n",
      "           warm_start=False)\n",
      "15:02:35 10/13/15 BRT - Train auc 1.0\n",
      "15:02:35 10/13/15 BRT - Val auc 0.687078837884\n",
      "15:02:35 10/13/15 BRT - RandomForestClassifier(bootstrap=True, class_weight=None, criterion='gini',\n",
      "            max_depth=None, max_features='auto', max_leaf_nodes=None,\n",
      "            min_samples_leaf=1, min_samples_split=2,\n",
      "            min_weight_fraction_leaf=0.0, n_estimators=10, n_jobs=1,\n",
      "            oob_score=False, random_state=234523, verbose=0,\n",
      "            warm_start=False)\n",
      "15:02:44 10/13/15 BRT - Train auc 0.99947934142\n",
      "15:02:44 10/13/15 BRT - Val auc 0.691080118392\n",
      "15:02:44 10/13/15 BRT - LogisticRegressionCV(Cs=10, class_weight=None, cv=None, dual=False,\n",
      "           fit_intercept=True, intercept_scaling=1.0, max_iter=100,\n",
      "           multi_class='ovr', n_jobs=1, penalty='l2', refit=True,\n",
      "           scoring=None, solver='lbfgs', tol=0.0001, verbose=0)\n",
      "15:05:15 10/13/15 BRT - Train auc 0.674310589413\n",
      "15:05:15 10/13/15 BRT - Val auc 0.65757424827\n",
      "15:05:15 10/13/15 BRT - RidgeClassifierCV(alphas=array([  0.1,   1. ,  10. ]), class_weight=None,\n",
      "         cv=None, fit_intercept=True, normalize=False, scoring=None)\n"
     ]
    }
   ],
   "source": [
    "results = []\n",
    "for model in models:\n",
    "    print_time(model)\n",
    "    sys.stdout.flush()\n",
    "    model.fit(X_train, y_train)\n",
    "    pred_train = model.predict_proba(X_train)[:, 1]\n",
    "    fpr, tpr, thresholds = roc_curve(y_train, pred_train, pos_label=1)\n",
    "    auc_train = auc(fpr, tpr)\n",
    "    pred_val = model.predict_proba(X_val)[:, 1]\n",
    "    fpr, tpr, thresholds = roc_curve(y_val, pred_val, pos_label=1)\n",
    "    auc_val = auc(fpr, tpr)\n",
    "    results.append(dict(\n",
    "          pred_train = pred_train,\n",
    "          auc_train = auc_train,\n",
    "          pred_val = pred_val,\n",
    "          auc_val = auc_val,\n",
    "          model = model\n",
    "        ))\n",
    "    \n",
    "    print_time('Train auc %s' %auc_train)\n",
    "    print_time('Val auc %s' %auc_val)\n",
    "    sys.stdout.flush()"
   ]
  },
  {
   "cell_type": "code",
   "execution_count": null,
   "metadata": {
    "collapsed": true
   },
   "outputs": [],
   "source": [
    "sorted(results.items(),\n",
    "      key=lambda x: x[1]['auc_test'],\n",
    "      reverse=True)"
   ]
  },
  {
   "cell_type": "code",
   "execution_count": 97,
   "metadata": {
    "collapsed": true
   },
   "outputs": [],
   "source": [
    "import time\n",
    "def print_time(msg):\n",
    "    '''\n",
    "    Print the message with a time before iter\n",
    "    '''\n",
    "    print '%s - %s' % (time.strftime('%X %x %Z'), msg)"
   ]
  },
  {
   "cell_type": "code",
   "execution_count": null,
   "metadata": {
    "collapsed": true
   },
   "outputs": [],
   "source": []
  }
 ],
 "metadata": {
  "kernelspec": {
   "display_name": "Python 2",
   "language": "python",
   "name": "python2"
  },
  "language_info": {
   "codemirror_mode": {
    "name": "ipython",
    "version": 2
   },
   "file_extension": ".py",
   "mimetype": "text/x-python",
   "name": "python",
   "nbconvert_exporter": "python",
   "pygments_lexer": "ipython2",
   "version": "2.7.10"
  }
 },
 "nbformat": 4,
 "nbformat_minor": 0
}
