{
 "cells": [
  {
   "cell_type": "code",
   "execution_count": 1,
   "metadata": {
    "collapsed": false
   },
   "outputs": [
    {
     "name": "stdout",
     "output_type": "stream",
     "text": [
      "Starting processing\n",
      "Loading files\n"
     ]
    }
   ],
   "source": [
    "import numpy as np\n",
    "import pandas as pd\n",
    "\n",
    "# load the files that were cleaned\n",
    "print 'Starting processing'\n",
    "print 'Loading files'\n",
    "train_raw = pd.read_csv('../Input/train_processed.csv')\n",
    "test_raw = pd.read_csv('../Input/test_processed.csv')\n",
    "random = 73812133"
   ]
  },
  {
   "cell_type": "code",
   "execution_count": 44,
   "metadata": {
    "collapsed": true
   },
   "outputs": [],
   "source": [
    "random = 73812133"
   ]
  },
  {
   "cell_type": "code",
   "execution_count": 4,
   "metadata": {
    "collapsed": true
   },
   "outputs": [],
   "source": [
    "cols_features = list(set(train_raw.columns.tolist()) - set(['ID', \"target\"]))\n",
    "cols_target = ['target']"
   ]
  },
  {
   "cell_type": "code",
   "execution_count": 12,
   "metadata": {
    "collapsed": false
   },
   "outputs": [],
   "source": [
    "big_empty = train_raw[train_raw == -1].sum() "
   ]
  },
  {
   "cell_type": "code",
   "execution_count": 34,
   "metadata": {
    "collapsed": false
   },
   "outputs": [],
   "source": [
    "cols_big_empty = big_empty[big_empty < -90000].index.tolist()"
   ]
  },
  {
   "cell_type": "code",
   "execution_count": 29,
   "metadata": {
    "collapsed": false
   },
   "outputs": [],
   "source": [
    "cols_dates =[\"VAR_0073\", \"VAR_0075\", \"VAR_0156\", \"VAR_0157\", \"VAR_0158\", \n",
    "             \"VAR_0159\", \"VAR_0166\", \"VAR_0167\", \"VAR_0168\", \"VAR_0176\", \n",
    "             \"VAR_0177\", \"VAR_0178\", \"VAR_0179\", \"VAR_0204\", \"VAR_0217\"]"
   ]
  },
  {
   "cell_type": "code",
   "execution_count": 71,
   "metadata": {
    "collapsed": true
   },
   "outputs": [],
   "source": [
    "save(cols_big_empty, 'big_empty.cols', '%s')\n",
    "save(cols_dates, 'dates.cols', '%s')"
   ]
  },
  {
   "cell_type": "code",
   "execution_count": 68,
   "metadata": {
    "collapsed": false
   },
   "outputs": [],
   "source": [
    "# create splits for validation\n",
    "from sklearn.cross_validation import StratifiedShuffleSplit \n",
    "sf = StratifiedShuffleSplit(train_raw[cols_target], n_iter=3, random_state = random, test_size=.25)\n",
    "for i,(train,validation) in enumerate(sf):\n",
    "    save(train, './train_%d.idx' % i, '%d')\n",
    "    save(validation, './val_%d.idx' % i, '%d')"
   ]
  },
  {
   "cell_type": "code",
   "execution_count": 69,
   "metadata": {
    "collapsed": true
   },
   "outputs": [],
   "source": [
    "def save(vec, file_name, out_format):\n",
    "    f = open(file_name, 'w')\n",
    "    np.savetxt(f, vec, out_format)\n",
    "    f.close()"
   ]
  },
  {
   "cell_type": "code",
   "execution_count": 87,
   "metadata": {
    "collapsed": false
   },
   "outputs": [],
   "source": [
    "#train_raw.apply(pd.Series.value_counts , axis=1)\n",
    "unique_count = train_raw.apply(lambda x: len(x.unique())) "
   ]
  },
  {
   "cell_type": "code",
   "execution_count": 96,
   "metadata": {
    "collapsed": false
   },
   "outputs": [],
   "source": [
    "cols_class_low = unique_count[unique_count < 10].index.tolist()\n",
    "cols_class_high = unique_count[unique_count > 10][unique_count <100].index.tolist()\n",
    "cols_vals = unique_count[unique_count > 100].index.tolist()[1:]"
   ]
  },
  {
   "cell_type": "code",
   "execution_count": 105,
   "metadata": {
    "collapsed": true
   },
   "outputs": [],
   "source": [
    "save(cols_class_low, 'class_low.cols', '%s')\n",
    "save(cols_class_high, 'class_high.cols', '%s')\n",
    "save(cols_vals, 'vals.cols', '%s')"
   ]
  }
 ],
 "metadata": {
  "kernelspec": {
   "display_name": "Python 2",
   "language": "python",
   "name": "python2"
  },
  "language_info": {
   "codemirror_mode": {
    "name": "ipython",
    "version": 2
   },
   "file_extension": ".py",
   "mimetype": "text/x-python",
   "name": "python",
   "nbconvert_exporter": "python",
   "pygments_lexer": "ipython2",
   "version": "2.7.10"
  }
 },
 "nbformat": 4,
 "nbformat_minor": 0
}
