{
 "metadata": {
  "name": "",
  "signature": "sha256:7b4fdfa930ad47873d94d4330d6e6a0cbe082ebb542bd62e27734836d21a4534"
 },
 "nbformat": 3,
 "nbformat_minor": 0,
 "worksheets": [
  {
   "cells": [
    {
     "cell_type": "markdown",
     "metadata": {},
     "source": [
      "<center>\n",
      "# Bike Sharing Competition - Kaggle\n"
     ]
    },
    {
     "cell_type": "markdown",
     "metadata": {},
     "source": [
      "This file contains my analysis about the Kaggle competition [Bike Sharing](https://www.kaggle.com/c/bike-sharing-demand)"
     ]
    },
    {
     "cell_type": "markdown",
     "metadata": {},
     "source": [
      "The main objective of this competition is to predict the count column, or the amount of people that will use the bycicle at that day/hour"
     ]
    },
    {
     "cell_type": "code",
     "collapsed": false,
     "input": [
      "%matplotlib inline\n",
      "import matplotlib.pyplot as plt\n",
      "import pandas as pd # load data\n",
      "import numpy as np\n",
      "# models\n",
      "from sklearn.svm import SVC # logistic regression model\n",
      "from sklearn.ensemble import RandomForestClassifier # ramdom forest\n",
      "# helpers\n",
      "from sklearn.grid_search import GridSearchCV # auto tune parameters\n",
      "# validation\n",
      "from sklearn.cross_validation import cross_val_score\n",
      "import sklearn.metrics as metrics"
     ],
     "language": "python",
     "metadata": {},
     "outputs": [],
     "prompt_number": 77
    },
    {
     "cell_type": "markdown",
     "metadata": {},
     "source": [
      "### Loading Data"
     ]
    },
    {
     "cell_type": "code",
     "collapsed": false,
     "input": [
      "# let\u00b4s take a look at data\n",
      "train_raw = pd.read_csv('train.csv', verbose=True, nrows=10,  )"
     ],
     "language": "python",
     "metadata": {},
     "outputs": []
    },
    {
     "cell_type": "code",
     "collapsed": false,
     "input": [
      "# load the training and test data\n",
      "train_raw = pd.read_csv('train.csv', verbose=True, parse_dates=['datetime'] )\n",
      "test_raw = pd.read_csv('test.csv', verbose=True, parse_dates=['datetime'] )"
     ],
     "language": "python",
     "metadata": {},
     "outputs": [
      {
       "output_type": "stream",
       "stream": "stdout",
       "text": [
        "Tokenization took: 5.08 ms\n",
        "Type conversion took: 8.16 ms\n",
        "Parser memory cleanup took: 0.02 ms\n",
        "Tokenization took: 2.34 ms\n",
        "Type conversion took: 4.34 ms\n",
        "Parser memory cleanup took: 0.01 ms\n"
       ]
      }
     ],
     "prompt_number": 48
    },
    {
     "cell_type": "markdown",
     "metadata": {},
     "source": [
      "###Munging and Cleaning"
     ]
    },
    {
     "cell_type": "code",
     "collapsed": false,
     "input": [
      "# check if data is complete and examples\n",
      "print train_raw.count()\n",
      "train_raw.head(3)"
     ],
     "language": "python",
     "metadata": {},
     "outputs": [
      {
       "output_type": "stream",
       "stream": "stdout",
       "text": [
        "datetime      10886\n",
        "season        10886\n",
        "holiday       10886\n",
        "workingday    10886\n",
        "weather       10886\n",
        "temp          10886\n",
        "atemp         10886\n",
        "humidity      10886\n",
        "windspeed     10886\n",
        "casual        10886\n",
        "registered    10886\n",
        "count         10886\n",
        "dtype: int64\n"
       ]
      },
      {
       "html": [
        "<div style=\"max-height:1000px;max-width:1500px;overflow:auto;\">\n",
        "<table border=\"1\" class=\"dataframe\">\n",
        "  <thead>\n",
        "    <tr style=\"text-align: right;\">\n",
        "      <th></th>\n",
        "      <th>datetime</th>\n",
        "      <th>season</th>\n",
        "      <th>holiday</th>\n",
        "      <th>workingday</th>\n",
        "      <th>weather</th>\n",
        "      <th>temp</th>\n",
        "      <th>atemp</th>\n",
        "      <th>humidity</th>\n",
        "      <th>windspeed</th>\n",
        "      <th>casual</th>\n",
        "      <th>registered</th>\n",
        "      <th>count</th>\n",
        "    </tr>\n",
        "  </thead>\n",
        "  <tbody>\n",
        "    <tr>\n",
        "      <th>0</th>\n",
        "      <td>2011-01-01 00:00:00</td>\n",
        "      <td> 1</td>\n",
        "      <td> 0</td>\n",
        "      <td> 0</td>\n",
        "      <td> 1</td>\n",
        "      <td> 9.84</td>\n",
        "      <td> 14.395</td>\n",
        "      <td> 81</td>\n",
        "      <td> 0</td>\n",
        "      <td> 3</td>\n",
        "      <td> 13</td>\n",
        "      <td> 16</td>\n",
        "    </tr>\n",
        "    <tr>\n",
        "      <th>1</th>\n",
        "      <td>2011-01-01 01:00:00</td>\n",
        "      <td> 1</td>\n",
        "      <td> 0</td>\n",
        "      <td> 0</td>\n",
        "      <td> 1</td>\n",
        "      <td> 9.02</td>\n",
        "      <td> 13.635</td>\n",
        "      <td> 80</td>\n",
        "      <td> 0</td>\n",
        "      <td> 8</td>\n",
        "      <td> 32</td>\n",
        "      <td> 40</td>\n",
        "    </tr>\n",
        "    <tr>\n",
        "      <th>2</th>\n",
        "      <td>2011-01-01 02:00:00</td>\n",
        "      <td> 1</td>\n",
        "      <td> 0</td>\n",
        "      <td> 0</td>\n",
        "      <td> 1</td>\n",
        "      <td> 9.02</td>\n",
        "      <td> 13.635</td>\n",
        "      <td> 80</td>\n",
        "      <td> 0</td>\n",
        "      <td> 5</td>\n",
        "      <td> 27</td>\n",
        "      <td> 32</td>\n",
        "    </tr>\n",
        "  </tbody>\n",
        "</table>\n",
        "</div>"
       ],
       "metadata": {},
       "output_type": "pyout",
       "prompt_number": 49,
       "text": [
        "             datetime  season  holiday  workingday  weather  temp   atemp  \\\n",
        "0 2011-01-01 00:00:00       1        0           0        1  9.84  14.395   \n",
        "1 2011-01-01 01:00:00       1        0           0        1  9.02  13.635   \n",
        "2 2011-01-01 02:00:00       1        0           0        1  9.02  13.635   \n",
        "\n",
        "   humidity  windspeed  casual  registered  count  \n",
        "0        81          0       3          13     16  \n",
        "1        80          0       8          32     40  \n",
        "2        80          0       5          27     32  "
       ]
      }
     ],
     "prompt_number": 49
    },
    {
     "cell_type": "code",
     "collapsed": false,
     "input": [
      "# type of datetime\n",
      "type(train_raw.datetime[1])"
     ],
     "language": "python",
     "metadata": {},
     "outputs": [
      {
       "metadata": {},
       "output_type": "pyout",
       "prompt_number": 17,
       "text": [
        "pandas.tslib.Timestamp"
       ]
      }
     ],
     "prompt_number": 17
    },
    {
     "cell_type": "code",
     "collapsed": false,
     "input": [
      "# check if data is complete and examples\n",
      "print test_raw.count()\n",
      "test_raw.head(3)"
     ],
     "language": "python",
     "metadata": {},
     "outputs": [
      {
       "output_type": "stream",
       "stream": "stdout",
       "text": [
        "datetime      6493\n",
        "season        6493\n",
        "holiday       6493\n",
        "workingday    6493\n",
        "weather       6493\n",
        "temp          6493\n",
        "atemp         6493\n",
        "humidity      6493\n",
        "windspeed     6493\n",
        "dtype: int64\n"
       ]
      },
      {
       "html": [
        "<div style=\"max-height:1000px;max-width:1500px;overflow:auto;\">\n",
        "<table border=\"1\" class=\"dataframe\">\n",
        "  <thead>\n",
        "    <tr style=\"text-align: right;\">\n",
        "      <th></th>\n",
        "      <th>datetime</th>\n",
        "      <th>season</th>\n",
        "      <th>holiday</th>\n",
        "      <th>workingday</th>\n",
        "      <th>weather</th>\n",
        "      <th>temp</th>\n",
        "      <th>atemp</th>\n",
        "      <th>humidity</th>\n",
        "      <th>windspeed</th>\n",
        "    </tr>\n",
        "  </thead>\n",
        "  <tbody>\n",
        "    <tr>\n",
        "      <th>0</th>\n",
        "      <td> 2011-01-20 00:00:00</td>\n",
        "      <td> 1</td>\n",
        "      <td> 0</td>\n",
        "      <td> 1</td>\n",
        "      <td> 1</td>\n",
        "      <td> 10.66</td>\n",
        "      <td> 11.365</td>\n",
        "      <td> 56</td>\n",
        "      <td> 26.0027</td>\n",
        "    </tr>\n",
        "    <tr>\n",
        "      <th>1</th>\n",
        "      <td> 2011-01-20 01:00:00</td>\n",
        "      <td> 1</td>\n",
        "      <td> 0</td>\n",
        "      <td> 1</td>\n",
        "      <td> 1</td>\n",
        "      <td> 10.66</td>\n",
        "      <td> 13.635</td>\n",
        "      <td> 56</td>\n",
        "      <td>  0.0000</td>\n",
        "    </tr>\n",
        "    <tr>\n",
        "      <th>2</th>\n",
        "      <td> 2011-01-20 02:00:00</td>\n",
        "      <td> 1</td>\n",
        "      <td> 0</td>\n",
        "      <td> 1</td>\n",
        "      <td> 1</td>\n",
        "      <td> 10.66</td>\n",
        "      <td> 13.635</td>\n",
        "      <td> 56</td>\n",
        "      <td>  0.0000</td>\n",
        "    </tr>\n",
        "  </tbody>\n",
        "</table>\n",
        "</div>"
       ],
       "metadata": {},
       "output_type": "pyout",
       "prompt_number": 47,
       "text": [
        "              datetime  season  holiday  workingday  weather   temp   atemp  \\\n",
        "0  2011-01-20 00:00:00       1        0           1        1  10.66  11.365   \n",
        "1  2011-01-20 01:00:00       1        0           1        1  10.66  13.635   \n",
        "2  2011-01-20 02:00:00       1        0           1        1  10.66  13.635   \n",
        "\n",
        "   humidity  windspeed  \n",
        "0        56    26.0027  \n",
        "1        56     0.0000  \n",
        "2        56     0.0000  "
       ]
      }
     ],
     "prompt_number": 47
    },
    {
     "cell_type": "code",
     "collapsed": false,
     "input": [
      "# the last 3 fields are what they want to predict\n",
      "\n",
      "# it is string, need to convert to datetime and separate the date as year, month, date, time\n",
      "# no strings on the fields\n",
      "from datetime import datetime\n",
      "def clean_data(data):\n",
      "    # just need to create more columns for the date time\n",
      "    data['year'] = data.datetime.apply(lambda x: x.year)\n",
      "    data['month'] = data.datetime.apply(lambda x: x.month)\n",
      "    data['day'] = data.datetime.apply(lambda x: x.day)\n",
      "    data['hour'] = data.datetime.apply(lambda x: x.hour)\n",
      "    \n",
      "    # created 2 new features to analize to see if there is a connection\n",
      "    data['dayofweek'] = data.datetime.apply(lambda x: x.dayofweek)\n",
      "    data['week'] = data.datetime.apply(lambda x: x.week)\n",
      "    \n",
      "    return data\n",
      "    \n",
      "train = clean_data(train_raw)\n",
      "test  = clean_data(test_raw)"
     ],
     "language": "python",
     "metadata": {},
     "outputs": [],
     "prompt_number": 56
    },
    {
     "cell_type": "code",
     "collapsed": false,
     "input": [
      "# lets create the vectors for training\n",
      "# remove the date and the last 3\n",
      "cols = ['season', 'holiday', 'workingday', 'weather', 'temp', 'atemp', 'humidity', 'windspeed', 'year', 'month', 'day', 'hour', 'dayofweek', 'week']\n",
      "X_train = train[cols]\n",
      "Y_train = train['count']\n",
      "X_test = test[cols]\n"
     ],
     "language": "python",
     "metadata": {},
     "outputs": [],
     "prompt_number": 70
    },
    {
     "cell_type": "markdown",
     "metadata": {},
     "source": [
      "### Trainig Time\n"
     ]
    },
    {
     "cell_type": "markdown",
     "metadata": {},
     "source": [
      "Now that the vector are ready, its time to apply the machine learning algorithms"
     ]
    },
    {
     "cell_type": "code",
     "collapsed": false,
     "input": [
      "svc = SVC(C=1.0, cache_size=500, coef0=0.0, degree=3,\n",
      " gamma=0.0, kernel='poly', max_iter=-1, probability=False,\n",
      "random_state=None, shrinking=True, tol=0.001, verbose=True)\n",
      "svc.fit(X_train, Y_train)\n",
      "print(svc)"
     ],
     "language": "python",
     "metadata": {},
     "outputs": []
    },
    {
     "cell_type": "code",
     "collapsed": false,
     "input": [
      "scores = cross_val_score(svc, X_train, Y_train, cv=5, scoring='accuracy', n_jobs =-1)\n",
      "print(\"Logistic Regression CV scores:\")\n",
      "print(\"min: {:.3f}, mean: {:.3f}, max: {:.3f}\".format(\n",
      "    scores.min(), scores.mean(), scores.max()))"
     ],
     "language": "python",
     "metadata": {},
     "outputs": []
    },
    {
     "cell_type": "code",
     "collapsed": false,
     "input": [
      "feature_names = X_train.columns.values\n",
      "x = np.arange(len(feature_names))\n",
      "plt.bar(x, svc.coef_)\n",
      "_ = plt.xticks(x + 0.5, feature_names, rotation=30)"
     ],
     "language": "python",
     "metadata": {},
     "outputs": [
      {
       "ename": "ValueError",
       "evalue": "coef_ is only available when using a linear kernel",
       "output_type": "pyerr",
       "traceback": [
        "\u001b[0;31m---------------------------------------------------------------------------\u001b[0m\n\u001b[0;31mValueError\u001b[0m                                Traceback (most recent call last)",
        "\u001b[0;32m<ipython-input-79-b280f273f0a9>\u001b[0m in \u001b[0;36m<module>\u001b[0;34m()\u001b[0m\n\u001b[1;32m      1\u001b[0m \u001b[0mfeature_names\u001b[0m \u001b[0;34m=\u001b[0m \u001b[0mX_train\u001b[0m\u001b[0;34m.\u001b[0m\u001b[0mcolumns\u001b[0m\u001b[0;34m.\u001b[0m\u001b[0mvalues\u001b[0m\u001b[0;34m\u001b[0m\u001b[0m\n\u001b[1;32m      2\u001b[0m \u001b[0mx\u001b[0m \u001b[0;34m=\u001b[0m \u001b[0mnp\u001b[0m\u001b[0;34m.\u001b[0m\u001b[0marange\u001b[0m\u001b[0;34m(\u001b[0m\u001b[0mlen\u001b[0m\u001b[0;34m(\u001b[0m\u001b[0mfeature_names\u001b[0m\u001b[0;34m)\u001b[0m\u001b[0;34m)\u001b[0m\u001b[0;34m\u001b[0m\u001b[0m\n\u001b[0;32m----> 3\u001b[0;31m \u001b[0mplt\u001b[0m\u001b[0;34m.\u001b[0m\u001b[0mbar\u001b[0m\u001b[0;34m(\u001b[0m\u001b[0mx\u001b[0m\u001b[0;34m,\u001b[0m \u001b[0msvc\u001b[0m\u001b[0;34m.\u001b[0m\u001b[0mcoef_\u001b[0m\u001b[0;34m)\u001b[0m\u001b[0;34m\u001b[0m\u001b[0m\n\u001b[0m\u001b[1;32m      4\u001b[0m \u001b[0m_\u001b[0m \u001b[0;34m=\u001b[0m \u001b[0mplt\u001b[0m\u001b[0;34m.\u001b[0m\u001b[0mxticks\u001b[0m\u001b[0;34m(\u001b[0m\u001b[0mx\u001b[0m \u001b[0;34m+\u001b[0m \u001b[0;36m0.5\u001b[0m\u001b[0;34m,\u001b[0m \u001b[0mfeature_names\u001b[0m\u001b[0;34m,\u001b[0m \u001b[0mrotation\u001b[0m\u001b[0;34m=\u001b[0m\u001b[0;36m30\u001b[0m\u001b[0;34m)\u001b[0m\u001b[0;34m\u001b[0m\u001b[0m\n",
        "\u001b[0;32m/Users/adrianowalmeida/anaconda/lib/python2.7/site-packages/sklearn/svm/base.pyc\u001b[0m in \u001b[0;36mcoef_\u001b[0;34m(self)\u001b[0m\n\u001b[1;32m    408\u001b[0m     \u001b[0;32mdef\u001b[0m \u001b[0mcoef_\u001b[0m\u001b[0;34m(\u001b[0m\u001b[0mself\u001b[0m\u001b[0;34m)\u001b[0m\u001b[0;34m:\u001b[0m\u001b[0;34m\u001b[0m\u001b[0m\n\u001b[1;32m    409\u001b[0m         \u001b[0;32mif\u001b[0m \u001b[0mself\u001b[0m\u001b[0;34m.\u001b[0m\u001b[0mkernel\u001b[0m \u001b[0;34m!=\u001b[0m \u001b[0;34m'linear'\u001b[0m\u001b[0;34m:\u001b[0m\u001b[0;34m\u001b[0m\u001b[0m\n\u001b[0;32m--> 410\u001b[0;31m             raise ValueError('coef_ is only available when using a '\n\u001b[0m\u001b[1;32m    411\u001b[0m                              'linear kernel')\n\u001b[1;32m    412\u001b[0m \u001b[0;34m\u001b[0m\u001b[0m\n",
        "\u001b[0;31mValueError\u001b[0m: coef_ is only available when using a linear kernel"
       ]
      }
     ],
     "prompt_number": 79
    }
   ],
   "metadata": {}
  }
 ]
}