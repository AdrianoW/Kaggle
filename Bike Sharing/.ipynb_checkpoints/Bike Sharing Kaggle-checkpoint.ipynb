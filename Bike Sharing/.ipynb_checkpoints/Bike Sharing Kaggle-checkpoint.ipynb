{
 "metadata": {
  "name": "",
  "signature": "sha256:7c3ca17004327d1c8336a0f879095b193a40d4b11f8a099700a423674c6feb21"
 },
 "nbformat": 3,
 "nbformat_minor": 0,
 "worksheets": [
  {
   "cells": [
    {
     "cell_type": "markdown",
     "metadata": {},
     "source": [
      "<center>\n",
      "# Bike Sharing Competition - Kaggle\n"
     ]
    },
    {
     "cell_type": "markdown",
     "metadata": {},
     "source": [
      "This file contains my analysis about the Kaggle competition [Bike Sharing](https://www.kaggle.com/c/bike-sharing-demand)"
     ]
    },
    {
     "cell_type": "markdown",
     "metadata": {},
     "source": [
      "The main objective of this competition is to predict the count column, or the amount of people that will use the bycicle at that day/hour"
     ]
    },
    {
     "cell_type": "code",
     "collapsed": false,
     "input": [
      "%matplotlib inline\n",
      "import matplotlib.pyplot as plt\n",
      "import pandas as pd # load data\n",
      "import numpy as np\n",
      "# models\n",
      "from sklearn.svm import SVC # logistic regression model\n",
      "from sklearn.ensemble import RandomForestClassifier # ramdom forest\n",
      "# helpers\n",
      "from sklearn.grid_search import GridSearchCV # auto tune parameters\n",
      "# validation\n",
      "from sklearn.cross_validation import cross_val_score\n",
      "import sklearn.metrics as metrics"
     ],
     "language": "python",
     "metadata": {},
     "outputs": [],
     "prompt_number": 25
    },
    {
     "cell_type": "markdown",
     "metadata": {},
     "source": [
      "### Loading Data"
     ]
    },
    {
     "cell_type": "code",
     "collapsed": false,
     "input": [
      "# let\u00b4s take a look at data\n",
      "train_raw = pd.read_csv('train.csv', verbose=True, nrows=10,  )"
     ],
     "language": "python",
     "metadata": {},
     "outputs": [
      {
       "output_type": "stream",
       "stream": "stdout",
       "text": [
        "Tokenization took: 0.01 ms\n",
        "Type conversion took: 0.76 ms\n",
        "Parser memory cleanup took: 0.01 ms\n"
       ]
      }
     ],
     "prompt_number": 2
    },
    {
     "cell_type": "code",
     "collapsed": false,
     "input": [
      "# load the training and test data\n",
      "train_raw = pd.read_csv('train.csv', verbose=True, parse_dates=['datetime'] )\n",
      "test_raw = pd.read_csv('test.csv', verbose=True, parse_dates=['datetime'] )"
     ],
     "language": "python",
     "metadata": {},
     "outputs": [
      {
       "output_type": "stream",
       "stream": "stdout",
       "text": [
        "Tokenization took: 6.79 ms\n",
        "Type conversion took: 9.06 ms\n",
        "Parser memory cleanup took: 0.02 ms\n",
        "Tokenization took: 4.07 ms"
       ]
      },
      {
       "output_type": "stream",
       "stream": "stdout",
       "text": [
        "\n",
        "Type conversion took: 5.13 ms\n",
        "Parser memory cleanup took: 0.01 ms\n"
       ]
      }
     ],
     "prompt_number": 3
    },
    {
     "cell_type": "markdown",
     "metadata": {},
     "source": [
      "###Munging and Cleaning"
     ]
    },
    {
     "cell_type": "code",
     "collapsed": false,
     "input": [
      "# check if data is complete and examples\n",
      "print train_raw.count()\n",
      "train_raw.head(3)"
     ],
     "language": "python",
     "metadata": {},
     "outputs": [
      {
       "output_type": "stream",
       "stream": "stdout",
       "text": [
        "datetime      10886\n",
        "season        10886\n",
        "holiday       10886\n",
        "workingday    10886\n",
        "weather       10886\n",
        "temp          10886\n",
        "atemp         10886\n",
        "humidity      10886\n",
        "windspeed     10886\n",
        "casual        10886\n",
        "registered    10886\n",
        "count         10886\n",
        "dtype: int64\n"
       ]
      },
      {
       "html": [
        "<div style=\"max-height:1000px;max-width:1500px;overflow:auto;\">\n",
        "<table border=\"1\" class=\"dataframe\">\n",
        "  <thead>\n",
        "    <tr style=\"text-align: right;\">\n",
        "      <th></th>\n",
        "      <th>datetime</th>\n",
        "      <th>season</th>\n",
        "      <th>holiday</th>\n",
        "      <th>workingday</th>\n",
        "      <th>weather</th>\n",
        "      <th>temp</th>\n",
        "      <th>atemp</th>\n",
        "      <th>humidity</th>\n",
        "      <th>windspeed</th>\n",
        "      <th>casual</th>\n",
        "      <th>registered</th>\n",
        "      <th>count</th>\n",
        "    </tr>\n",
        "  </thead>\n",
        "  <tbody>\n",
        "    <tr>\n",
        "      <th>0</th>\n",
        "      <td>2011-01-01 00:00:00</td>\n",
        "      <td> 1</td>\n",
        "      <td> 0</td>\n",
        "      <td> 0</td>\n",
        "      <td> 1</td>\n",
        "      <td> 9.84</td>\n",
        "      <td> 14.395</td>\n",
        "      <td> 81</td>\n",
        "      <td> 0</td>\n",
        "      <td> 3</td>\n",
        "      <td> 13</td>\n",
        "      <td> 16</td>\n",
        "    </tr>\n",
        "    <tr>\n",
        "      <th>1</th>\n",
        "      <td>2011-01-01 01:00:00</td>\n",
        "      <td> 1</td>\n",
        "      <td> 0</td>\n",
        "      <td> 0</td>\n",
        "      <td> 1</td>\n",
        "      <td> 9.02</td>\n",
        "      <td> 13.635</td>\n",
        "      <td> 80</td>\n",
        "      <td> 0</td>\n",
        "      <td> 8</td>\n",
        "      <td> 32</td>\n",
        "      <td> 40</td>\n",
        "    </tr>\n",
        "    <tr>\n",
        "      <th>2</th>\n",
        "      <td>2011-01-01 02:00:00</td>\n",
        "      <td> 1</td>\n",
        "      <td> 0</td>\n",
        "      <td> 0</td>\n",
        "      <td> 1</td>\n",
        "      <td> 9.02</td>\n",
        "      <td> 13.635</td>\n",
        "      <td> 80</td>\n",
        "      <td> 0</td>\n",
        "      <td> 5</td>\n",
        "      <td> 27</td>\n",
        "      <td> 32</td>\n",
        "    </tr>\n",
        "  </tbody>\n",
        "</table>\n",
        "</div>"
       ],
       "metadata": {},
       "output_type": "pyout",
       "prompt_number": 4,
       "text": [
        "             datetime  season  holiday  workingday  weather  temp   atemp  \\\n",
        "0 2011-01-01 00:00:00       1        0           0        1  9.84  14.395   \n",
        "1 2011-01-01 01:00:00       1        0           0        1  9.02  13.635   \n",
        "2 2011-01-01 02:00:00       1        0           0        1  9.02  13.635   \n",
        "\n",
        "   humidity  windspeed  casual  registered  count  \n",
        "0        81          0       3          13     16  \n",
        "1        80          0       8          32     40  \n",
        "2        80          0       5          27     32  "
       ]
      }
     ],
     "prompt_number": 4
    },
    {
     "cell_type": "code",
     "collapsed": false,
     "input": [
      "# type of datetime\n",
      "type(train_raw.datetime[1])"
     ],
     "language": "python",
     "metadata": {},
     "outputs": [
      {
       "metadata": {},
       "output_type": "pyout",
       "prompt_number": 5,
       "text": [
        "pandas.tslib.Timestamp"
       ]
      }
     ],
     "prompt_number": 5
    },
    {
     "cell_type": "code",
     "collapsed": false,
     "input": [
      "# check if data is complete and examples\n",
      "print test_raw.count()\n",
      "test_raw.head(3)"
     ],
     "language": "python",
     "metadata": {},
     "outputs": [
      {
       "output_type": "stream",
       "stream": "stdout",
       "text": [
        "datetime      6493\n",
        "season        6493\n",
        "holiday       6493\n",
        "workingday    6493\n",
        "weather       6493\n",
        "temp          6493\n",
        "atemp         6493\n",
        "humidity      6493\n",
        "windspeed     6493\n",
        "dtype: int64\n"
       ]
      },
      {
       "html": [
        "<div style=\"max-height:1000px;max-width:1500px;overflow:auto;\">\n",
        "<table border=\"1\" class=\"dataframe\">\n",
        "  <thead>\n",
        "    <tr style=\"text-align: right;\">\n",
        "      <th></th>\n",
        "      <th>datetime</th>\n",
        "      <th>season</th>\n",
        "      <th>holiday</th>\n",
        "      <th>workingday</th>\n",
        "      <th>weather</th>\n",
        "      <th>temp</th>\n",
        "      <th>atemp</th>\n",
        "      <th>humidity</th>\n",
        "      <th>windspeed</th>\n",
        "    </tr>\n",
        "  </thead>\n",
        "  <tbody>\n",
        "    <tr>\n",
        "      <th>0</th>\n",
        "      <td>2011-01-20 00:00:00</td>\n",
        "      <td> 1</td>\n",
        "      <td> 0</td>\n",
        "      <td> 1</td>\n",
        "      <td> 1</td>\n",
        "      <td> 10.66</td>\n",
        "      <td> 11.365</td>\n",
        "      <td> 56</td>\n",
        "      <td> 26.0027</td>\n",
        "    </tr>\n",
        "    <tr>\n",
        "      <th>1</th>\n",
        "      <td>2011-01-20 01:00:00</td>\n",
        "      <td> 1</td>\n",
        "      <td> 0</td>\n",
        "      <td> 1</td>\n",
        "      <td> 1</td>\n",
        "      <td> 10.66</td>\n",
        "      <td> 13.635</td>\n",
        "      <td> 56</td>\n",
        "      <td>  0.0000</td>\n",
        "    </tr>\n",
        "    <tr>\n",
        "      <th>2</th>\n",
        "      <td>2011-01-20 02:00:00</td>\n",
        "      <td> 1</td>\n",
        "      <td> 0</td>\n",
        "      <td> 1</td>\n",
        "      <td> 1</td>\n",
        "      <td> 10.66</td>\n",
        "      <td> 13.635</td>\n",
        "      <td> 56</td>\n",
        "      <td>  0.0000</td>\n",
        "    </tr>\n",
        "  </tbody>\n",
        "</table>\n",
        "</div>"
       ],
       "metadata": {},
       "output_type": "pyout",
       "prompt_number": 6,
       "text": [
        "             datetime  season  holiday  workingday  weather   temp   atemp  \\\n",
        "0 2011-01-20 00:00:00       1        0           1        1  10.66  11.365   \n",
        "1 2011-01-20 01:00:00       1        0           1        1  10.66  13.635   \n",
        "2 2011-01-20 02:00:00       1        0           1        1  10.66  13.635   \n",
        "\n",
        "   humidity  windspeed  \n",
        "0        56    26.0027  \n",
        "1        56     0.0000  \n",
        "2        56     0.0000  "
       ]
      }
     ],
     "prompt_number": 6
    },
    {
     "cell_type": "code",
     "collapsed": false,
     "input": [
      "# the last 3 fields are what they want to predict\n",
      "\n",
      "# it is string, need to convert to datetime and separate the date as year, month, date, time\n",
      "# no strings on the fields\n",
      "def clean_data(data):\n",
      "    # just need to create more columns for the date time\n",
      "    data['year'] = data.datetime.apply(lambda x: x.year)\n",
      "    data['month'] = data.datetime.apply(lambda x: x.month)\n",
      "    data['day'] = data.datetime.apply(lambda x: x.day)\n",
      "    data['hour'] = data.datetime.apply(lambda x: x.hour)\n",
      "    \n",
      "    # created 2 new features to analize to see if there is a connection\n",
      "    data['dayofweek'] = data.datetime.apply(lambda x: x.dayofweek)\n",
      "    data['week'] = data.datetime.apply(lambda x: x.week)\n",
      "    data['yearmonth'] = data.datetime.apply(lambda x: x.year)*100 + data.datetime.apply(lambda x: x.month)\n",
      "    \n",
      "    return data\n",
      "    \n",
      "train = clean_data(train_raw)\n",
      "test  = clean_data(test_raw)"
     ],
     "language": "python",
     "metadata": {},
     "outputs": [],
     "prompt_number": 7
    },
    {
     "cell_type": "code",
     "collapsed": false,
     "input": [
      "# lets create the vectors for training\n",
      "# remove the date and the last 3\n",
      "cols = ['season', 'holiday', 'workingday', 'weather', 'temp', 'atemp', 'humidity', 'windspeed', 'year', 'month', 'day', 'hour', 'dayofweek', 'week', 'yearmonth']\n",
      "X_train = train[cols]\n",
      "Y_train = train['count']\n",
      "X_test = test[cols]\n"
     ],
     "language": "python",
     "metadata": {},
     "outputs": [],
     "prompt_number": 8
    },
    {
     "cell_type": "markdown",
     "metadata": {},
     "source": [
      "According to the competition rules, we can not use data over the period we had. So lets create a dict with all the month, versus de data they can use"
     ]
    },
    {
     "cell_type": "code",
     "collapsed": false,
     "input": [
      "#data_by_yearmonth\n"
     ],
     "language": "python",
     "metadata": {},
     "outputs": [],
     "prompt_number": 10
    },
    {
     "cell_type": "markdown",
     "metadata": {},
     "source": [
      "### Some visual data analysis"
     ]
    },
    {
     "cell_type": "code",
     "collapsed": false,
     "input": [
      "# correlation between the output and vars\n",
      "train.groupby(['year','month'])['count', 'casual', 'registered'].mean().plot()"
     ],
     "language": "python",
     "metadata": {},
     "outputs": [
      {
       "metadata": {},
       "output_type": "pyout",
       "prompt_number": 28,
       "text": [
        "<matplotlib.axes.AxesSubplot at 0x10d3ccdd0>"
       ]
      },
      {
       "metadata": {},
       "output_type": "display_data",
       "png": "[encoded data removed]",
       "text": [
        "<matplotlib.figure.Figure at 0x10ca94a50>"
       ]
      }
     ],
     "prompt_number": 28
    },
    {
     "cell_type": "code",
     "collapsed": false,
     "input": [
      "# correlation between the output and vars\n",
      "train.groupby(['atemp'])['count', 'casual', 'registered'].mean().plot()"
     ],
     "language": "python",
     "metadata": {},
     "outputs": [
      {
       "metadata": {},
       "output_type": "pyout",
       "prompt_number": 29,
       "text": [
        "<matplotlib.axes.AxesSubplot at 0x10d595250>"
       ]
      },
      {
       "metadata": {},
       "output_type": "display_data",
       "png": "[encoded data removed]",
       "text": [
        "<matplotlib.figure.Figure at 0x10d67ec10>"
       ]
      }
     ],
     "prompt_number": 29
    },
    {
     "cell_type": "markdown",
     "metadata": {},
     "source": [
      "### Comparision between models and submission helpers"
     ]
    },
    {
     "cell_type": "markdown",
     "metadata": {},
     "source": [
      "As stated by Kaggle, this competition will be analyzed using the Root Mean Squared Logarithmic Error (RMSLE), so lets get it from scikit"
     ]
    },
    {
     "cell_type": "code",
     "collapsed": false,
     "input": [
      "def rmsle(Y_test, Y_pred):\n",
      "    # if there is any negative number, it will be 0\n",
      "    Y_pred[Y_pred <0] = 0\n",
      "    return np.sqrt( np.sum( (np.log(Y_pred+1)-np.log(Y_test+1))**2 )/len(Y_test))\n",
      "\n",
      "from datetime import datetime\n",
      "def prepare_submission(X_test, Y_pred, file_name):\n",
      "    # get the time and create one string as on the input and add the prediction column\n",
      "    d = X_test.datetime.apply(lambda x: x.strftime('%Y-%m-%d %H:%M:%S'))\n",
      "    Y_pred[Y_pred<0]=0\n",
      "    ret = pd.DataFrame( { 'datetime':d , 'count':Y_pred})\n",
      "    \n",
      "    # save to file the data frame\n",
      "    ret.to_csv(file_name,sep=',', index=False)\n",
      "    return ret\n",
      "    "
     ],
     "language": "python",
     "metadata": {},
     "outputs": [],
     "prompt_number": 35
    },
    {
     "cell_type": "markdown",
     "metadata": {},
     "source": [
      "### Trainnig Time\n"
     ]
    },
    {
     "cell_type": "markdown",
     "metadata": {},
     "source": [
      "Now that the vector are ready, its time to apply the machine learning algorithms"
     ]
    },
    {
     "cell_type": "code",
     "collapsed": false,
     "input": [
      "# start splitting between test and train in a sample we know - .25\n",
      "from sklearn.cross_validation import train_test_split\n",
      "a_train, a_test, b_train, b_test = train_test_split(X_train, Y_train)"
     ],
     "language": "python",
     "metadata": {},
     "outputs": [],
     "prompt_number": 31
    },
    {
     "cell_type": "markdown",
     "metadata": {},
     "source": [
      "#### basic linear regression"
     ]
    },
    {
     "cell_type": "code",
     "collapsed": false,
     "input": [
      "# basic linear regression\n",
      "from sklearn import linear_model\n",
      "clf = linear_model.LinearRegression()\n",
      "clf.fit(a_train, b_train)\n",
      "# predict the test set\n",
      "b_pred = clf.predict(a_test)\n",
      "print 'overall score linear regression is %.2f' % rmsle(b_test, b_pred)\n",
      "print 'R^2: %.2f' %clf.score(a_test, b_test)"
     ],
     "language": "python",
     "metadata": {},
     "outputs": [
      {
       "output_type": "stream",
       "stream": "stdout",
       "text": [
        "overall score linear regression is 1.31\n",
        "R^2: 0.40\n"
       ]
      }
     ],
     "prompt_number": 65
    },
    {
     "cell_type": "markdown",
     "metadata": {},
     "source": [
      "#### random forest"
     ]
    },
    {
     "cell_type": "code",
     "collapsed": false,
     "input": [
      "from sklearn import ensemble\n",
      "rf = ensemble.RandomForestRegressor(max_features='auto', n_estimators= 500)\n",
      "rf.fit(a_train, b_train)\n",
      "# predict the test set\n",
      "b_pred = rf.predict(a_test)\n",
      "print 'overall score random forest is %.2f' % rmsle(b_test, b_pred)\n",
      "print 'R^2: %.2f' %rf.score(a_test, b_test)"
     ],
     "language": "python",
     "metadata": {},
     "outputs": []
    },
    {
     "cell_type": "code",
     "collapsed": false,
     "input": [
      "pl = pd.concat(train['year', 'hour'], Y_test)"
     ],
     "language": "python",
     "metadata": {},
     "outputs": []
    },
    {
     "cell_type": "code",
     "collapsed": false,
     "input": [
      "# .3 seems to good to be true. Lets post it to Kaggle\n",
      "rf.fit(X_train, Y_train)\n",
      "Y_test = rf.predict(X_test)\n",
      "sub = prepare_submission(test, rf.predict(Y_test), '140831_rf_awa.csv')\n",
      "### .5 on total score. That was ok"
     ],
     "language": "python",
     "metadata": {},
     "outputs": [],
     "prompt_number": 99
    },
    {
     "cell_type": "code",
     "collapsed": false,
     "input": [
      "# visually\n",
      "pl = pd.concat(train['year', 'hour'], Y_test)"
     ],
     "language": "python",
     "metadata": {},
     "outputs": []
    },
    {
     "cell_type": "code",
     "collapsed": false,
     "input": [
      "cols = ['season', 'holiday', 'workingday', 'weather', 'temp', 'atemp', 'humidity', 'windspeed', 'year', 'month', 'day', 'hour', 'dayofweek', 'week']\n",
      "print rf.transform(a_train)[1]\n",
      "a_train[1]"
     ],
     "language": "python",
     "metadata": {},
     "outputs": [
      {
       "output_type": "stream",
       "stream": "stdout",
       "text": [
        "[   29.52  2011.       6.  ]\n"
       ]
      },
      {
       "metadata": {},
       "output_type": "pyout",
       "prompt_number": 114,
       "text": [
        "array([  3.00000000e+00,   0.00000000e+00,   1.00000000e+00,\n",
        "         2.00000000e+00,   2.95200000e+01,   3.48500000e+01,\n",
        "         7.40000000e+01,   7.00150000e+00,   2.01100000e+03,\n",
        "         7.00000000e+00,   1.90000000e+01,   6.00000000e+00,\n",
        "         1.00000000e+00,   2.90000000e+01])"
       ]
      }
     ],
     "prompt_number": 114
    },
    {
     "cell_type": "markdown",
     "metadata": {},
     "source": [
      "Let's explore a little the random forest params. My local value was better than theirs, so it may have an overfitting on the tree.\n",
      "\n",
      "+ n_estimators: number of trees. 10 default\n",
      "+ max_features: features that will be used\n",
      "+ max_depth: nodes expanded until getting to the leaf. This could be a good one to change\n"
     ]
    },
    {
     "cell_type": "code",
     "collapsed": false,
     "input": [
      "params = {\n",
      "    'n_estimators': [10,20, 50,100],\n",
      "    'max_features': ['auto', 5, 3],\n",
      "    #'max_depth': [None, 10, 15,20],\n",
      "}\n",
      "gs = GridSearchCV(rf, params, cv=5, n_jobs=1)\n",
      "gs.fit(a_train, b_train)\n",
      "# predict the test set\n",
      "b_pred = gs.predict(a_test)\n",
      "print 'overall score random forest is %.2f' % rmsle(b_test, b_pred)\n",
      "print 'R^2: %.2f' %rf.score(a_test, b_test)"
     ],
     "language": "python",
     "metadata": {},
     "outputs": [
      {
       "output_type": "stream",
       "stream": "stdout",
       "text": [
        "overall score random forest is 0.34\n",
        "R^2: 0.89\n"
       ]
      }
     ],
     "prompt_number": 35
    },
    {
     "cell_type": "code",
     "collapsed": false,
     "input": [
      "gs.grid_scores_"
     ],
     "language": "python",
     "metadata": {},
     "outputs": [
      {
       "ename": "NameError",
       "evalue": "name 'gs' is not defined",
       "output_type": "pyerr",
       "traceback": [
        "\u001b[0;31m---------------------------------------------------------------------------\u001b[0m\n\u001b[0;31mNameError\u001b[0m                                 Traceback (most recent call last)",
        "\u001b[0;32m<ipython-input-36-3610116caa64>\u001b[0m in \u001b[0;36m<module>\u001b[0;34m()\u001b[0m\n\u001b[0;32m----> 1\u001b[0;31m \u001b[0mgs\u001b[0m\u001b[0;34m.\u001b[0m\u001b[0mgrid_scores_\u001b[0m\u001b[0;34m\u001b[0m\u001b[0m\n\u001b[0m",
        "\u001b[0;31mNameError\u001b[0m: name 'gs' is not defined"
       ]
      }
     ],
     "prompt_number": 36
    },
    {
     "cell_type": "code",
     "collapsed": false,
     "input": [
      "# using the grid search params\n",
      "rf = ensemble.RandomForestRegressor(max_features='auto', n_estimators= 150)\n",
      "rf.fit(a_train, b_train)\n",
      "# predict the test set\n",
      "b_pred = rf.predict(a_test)\n",
      "print 'overall score random forest is %.2f' % rmsle(b_test, b_pred)\n",
      "print 'R^2: %.2f' %rf.score(a_test, b_test)\n",
      "sub = prepare_submission(test, rf.predict(X_test), '140831_rf150_awa.csv')\n",
      "# got an even better result"
     ],
     "language": "python",
     "metadata": {},
     "outputs": [
      {
       "output_type": "stream",
       "stream": "stdout",
       "text": [
        "overall score random forest is 0.33\n",
        "R^2: 0.95"
       ]
      },
      {
       "output_type": "stream",
       "stream": "stdout",
       "text": [
        "\n"
       ]
      }
     ],
     "prompt_number": 39
    },
    {
     "cell_type": "markdown",
     "metadata": {},
     "source": [
      "#### Gradient Boosting Regression trees"
     ]
    },
    {
     "cell_type": "markdown",
     "metadata": {},
     "source": [
      "Based on this presentation [Gradient Boosting](http://pt.slideshare.net/DataRobot/gradient-boosted-regression-trees-in-scikitlearn) , let's see how it goes"
     ]
    },
    {
     "cell_type": "code",
     "collapsed": false,
     "input": [
      "%%time\n",
      "params = {\n",
      "    'learning_rate': [.05,.01],\n",
      "    'max_depth': [8,10],\n",
      "    'min_samples_leaf': [3,5,9,17],\n",
      "    'max_features': [1.0]\n",
      "}\n",
      "est = ensemble.GradientBoostingRegressor(n_estimators=1000)\n",
      "#est.fit(a_train, b_train)\n",
      "gs_cv = GridSearchCV(est, params).fit(a_train, b_train)"
     ],
     "language": "python",
     "metadata": {},
     "outputs": [
      {
       "output_type": "stream",
       "stream": "stdout",
       "text": [
        "CPU times: user 49min 23s, sys: 9.42 s, total: 49min 33s\n",
        "Wall time: 49min 33s\n"
       ]
      }
     ],
     "prompt_number": 26
    },
    {
     "cell_type": "code",
     "collapsed": false,
     "input": [
      "print gs_cv.best_params_\n",
      "gs_cv.grid_scores_"
     ],
     "language": "python",
     "metadata": {},
     "outputs": [
      {
       "output_type": "stream",
       "stream": "stdout",
       "text": [
        "{'max_features': 1.0, 'learning_rate': 0.05, 'max_depth': 8, 'min_samples_leaf': 9}\n"
       ]
      },
      {
       "metadata": {},
       "output_type": "pyout",
       "prompt_number": 37,
       "text": [
        "[mean: 0.95517, std: 0.00077, params: {'max_features': 1.0, 'learning_rate': 0.05, 'max_depth': 8, 'min_samples_leaf': 3},\n",
        " mean: 0.95554, std: 0.00091, params: {'max_features': 1.0, 'learning_rate': 0.05, 'max_depth': 8, 'min_samples_leaf': 5},\n",
        " mean: 0.95604, std: 0.00164, params: {'max_features': 1.0, 'learning_rate': 0.05, 'max_depth': 8, 'min_samples_leaf': 9},\n",
        " mean: 0.95528, std: 0.00145, params: {'max_features': 1.0, 'learning_rate': 0.05, 'max_depth': 8, 'min_samples_leaf': 17},\n",
        " mean: 0.95072, std: 0.00252, params: {'max_features': 1.0, 'learning_rate': 0.05, 'max_depth': 10, 'min_samples_leaf': 3},\n",
        " mean: 0.95294, std: 0.00220, params: {'max_features': 1.0, 'learning_rate': 0.05, 'max_depth': 10, 'min_samples_leaf': 5},\n",
        " mean: 0.95395, std: 0.00230, params: {'max_features': 1.0, 'learning_rate': 0.05, 'max_depth': 10, 'min_samples_leaf': 9},\n",
        " mean: 0.95500, std: 0.00276, params: {'max_features': 1.0, 'learning_rate': 0.05, 'max_depth': 10, 'min_samples_leaf': 17},\n",
        " mean: 0.95494, std: 0.00088, params: {'max_features': 1.0, 'learning_rate': 0.01, 'max_depth': 8, 'min_samples_leaf': 3},\n",
        " mean: 0.95538, std: 0.00091, params: {'max_features': 1.0, 'learning_rate': 0.01, 'max_depth': 8, 'min_samples_leaf': 5},\n",
        " mean: 0.95533, std: 0.00148, params: {'max_features': 1.0, 'learning_rate': 0.01, 'max_depth': 8, 'min_samples_leaf': 9},\n",
        " mean: 0.95457, std: 0.00178, params: {'max_features': 1.0, 'learning_rate': 0.01, 'max_depth': 8, 'min_samples_leaf': 17},\n",
        " mean: 0.95120, std: 0.00208, params: {'max_features': 1.0, 'learning_rate': 0.01, 'max_depth': 10, 'min_samples_leaf': 3},\n",
        " mean: 0.95334, std: 0.00207, params: {'max_features': 1.0, 'learning_rate': 0.01, 'max_depth': 10, 'min_samples_leaf': 5},\n",
        " mean: 0.95423, std: 0.00256, params: {'max_features': 1.0, 'learning_rate': 0.01, 'max_depth': 10, 'min_samples_leaf': 9},\n",
        " mean: 0.95524, std: 0.00279, params: {'max_features': 1.0, 'learning_rate': 0.01, 'max_depth': 10, 'min_samples_leaf': 17}]"
       ]
      }
     ],
     "prompt_number": 37
    },
    {
     "cell_type": "code",
     "collapsed": false,
     "input": [
      "fig, axs  = ensemble.partial_dependence.plot_partial_dependence(est, a_test, \n",
      "                                                                cols, feature_names =cols)"
     ],
     "language": "python",
     "metadata": {},
     "outputs": [
      {
       "ename": "ValueError",
       "evalue": "Call GradientBoostingRegressor.fit before partial_dependence",
       "output_type": "pyerr",
       "traceback": [
        "\u001b[0;31m---------------------------------------------------------------------------\u001b[0m\n\u001b[0;31mValueError\u001b[0m                                Traceback (most recent call last)",
        "\u001b[0;32m<ipython-input-34-243b6b6b16e7>\u001b[0m in \u001b[0;36m<module>\u001b[0;34m()\u001b[0m\n\u001b[1;32m      1\u001b[0m fig, axs  = ensemble.partial_dependence.plot_partial_dependence(est, a_test, \n\u001b[0;32m----> 2\u001b[0;31m                                                                 cols, feature_names =cols)\n\u001b[0m",
        "\u001b[0;32m/Users/adrianowalmeida/anaconda/lib/python2.7/site-packages/sklearn/ensemble/partial_dependence.pyc\u001b[0m in \u001b[0;36mplot_partial_dependence\u001b[0;34m(gbrt, X, features, feature_names, label, n_cols, grid_resolution, percentiles, n_jobs, verbose, ax, line_kw, contour_kw, **fig_kw)\u001b[0m\n\u001b[1;32m    244\u001b[0m     \u001b[0;32mif\u001b[0m \u001b[0mgbrt\u001b[0m\u001b[0;34m.\u001b[0m\u001b[0mestimators_\u001b[0m\u001b[0;34m.\u001b[0m\u001b[0mshape\u001b[0m\u001b[0;34m[\u001b[0m\u001b[0;36m0\u001b[0m\u001b[0;34m]\u001b[0m \u001b[0;34m==\u001b[0m \u001b[0;36m0\u001b[0m\u001b[0;34m:\u001b[0m\u001b[0;34m\u001b[0m\u001b[0m\n\u001b[1;32m    245\u001b[0m         raise ValueError('Call %s.fit before partial_dependence' %\n\u001b[0;32m--> 246\u001b[0;31m                          gbrt.__class__.__name__)\n\u001b[0m\u001b[1;32m    247\u001b[0m \u001b[0;34m\u001b[0m\u001b[0m\n\u001b[1;32m    248\u001b[0m     \u001b[0;31m# set label_idx for multi-class GBRT\u001b[0m\u001b[0;34m\u001b[0m\u001b[0;34m\u001b[0m\u001b[0m\n",
        "\u001b[0;31mValueError\u001b[0m: Call GradientBoostingRegressor.fit before partial_dependence"
       ]
      }
     ],
     "prompt_number": 34
    },
    {
     "cell_type": "code",
     "collapsed": false,
     "input": [
      "pred = gs_cv.predict(a_test)\n",
      "print 'overall score Gradient Boosting is %.2f' % rmsle(b_test, pred)"
     ],
     "language": "python",
     "metadata": {},
     "outputs": [
      {
       "output_type": "stream",
       "stream": "stdout",
       "text": [
        "overall score Gradient Boosting is 0.40\n"
       ]
      }
     ],
     "prompt_number": 30
    },
    {
     "cell_type": "code",
     "collapsed": false,
     "input": [
      "sub = prepare_submission(test, gs_cv.predict(X_test), '140901_GB_awa.csv')"
     ],
     "language": "python",
     "metadata": {},
     "outputs": [],
     "prompt_number": 40
    },
    {
     "cell_type": "markdown",
     "metadata": {},
     "source": [
      "## SVC"
     ]
    },
    {
     "cell_type": "code",
     "collapsed": false,
     "input": [
      "svc = SVC(C=1.0, cache_size=500, coef0=0.0, degree=3,\n",
      " gamma=0.0, kernel='poly', max_iter=-1, probability=False,\n",
      "random_state=None, verbose=True)\n",
      "svc.fit(X_train, Y_train)\n",
      "print(svc)"
     ],
     "language": "python",
     "metadata": {},
     "outputs": [],
     "prompt_number": 9
    },
    {
     "cell_type": "code",
     "collapsed": false,
     "input": [
      "scores = cross_val_score(svc, X_train, Y_train, cv=5, scoring='accuracy', n_jobs =-1)\n",
      "print(\"Logistic Regression CV scores:\")\n",
      "print(\"min: {:.3f}, mean: {:.3f}, max: {:.3f}\".format(\n",
      "    scores.min(), scores.mean(), scores.max()))"
     ],
     "language": "python",
     "metadata": {},
     "outputs": [
      {
       "ename": "NameError",
       "evalue": "name 'svc' is not defined",
       "output_type": "pyerr",
       "traceback": [
        "\u001b[0;31m---------------------------------------------------------------------------\u001b[0m\n\u001b[0;31mNameError\u001b[0m                                 Traceback (most recent call last)",
        "\u001b[0;32m<ipython-input-41-eb243f0ab186>\u001b[0m in \u001b[0;36m<module>\u001b[0;34m()\u001b[0m\n\u001b[0;32m----> 1\u001b[0;31m \u001b[0mscores\u001b[0m \u001b[0;34m=\u001b[0m \u001b[0mcross_val_score\u001b[0m\u001b[0;34m(\u001b[0m\u001b[0msvc\u001b[0m\u001b[0;34m,\u001b[0m \u001b[0mX_train\u001b[0m\u001b[0;34m,\u001b[0m \u001b[0mY_train\u001b[0m\u001b[0;34m,\u001b[0m \u001b[0mcv\u001b[0m\u001b[0;34m=\u001b[0m\u001b[0;36m5\u001b[0m\u001b[0;34m,\u001b[0m \u001b[0mscoring\u001b[0m\u001b[0;34m=\u001b[0m\u001b[0;34m'accuracy'\u001b[0m\u001b[0;34m,\u001b[0m \u001b[0mn_jobs\u001b[0m \u001b[0;34m=\u001b[0m\u001b[0;34m-\u001b[0m\u001b[0;36m1\u001b[0m\u001b[0;34m)\u001b[0m\u001b[0;34m\u001b[0m\u001b[0m\n\u001b[0m\u001b[1;32m      2\u001b[0m \u001b[0;32mprint\u001b[0m\u001b[0;34m(\u001b[0m\u001b[0;34m\"Logistic Regression CV scores:\"\u001b[0m\u001b[0;34m)\u001b[0m\u001b[0;34m\u001b[0m\u001b[0m\n\u001b[1;32m      3\u001b[0m print(\"min: {:.3f}, mean: {:.3f}, max: {:.3f}\".format(\n\u001b[1;32m      4\u001b[0m     scores.min(), scores.mean(), scores.max()))\n",
        "\u001b[0;31mNameError\u001b[0m: name 'svc' is not defined"
       ]
      }
     ],
     "prompt_number": 41
    },
    {
     "cell_type": "code",
     "collapsed": false,
     "input": [
      "feature_names = X_train.columns.values\n",
      "x = np.arange(len(feature_names))\n",
      "plt.bar(x, svc.coef_)\n",
      "_ = plt.xticks(x + 0.5, feature_names, rotation=30)"
     ],
     "language": "python",
     "metadata": {},
     "outputs": []
    }
   ],
   "metadata": {}
  }
 ]
}